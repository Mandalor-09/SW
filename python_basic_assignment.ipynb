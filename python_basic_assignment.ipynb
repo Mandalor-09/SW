{
  "nbformat": 4,
  "nbformat_minor": 0,
  "metadata": {
    "colab": {
      "provenance": []
    },
    "kernelspec": {
      "name": "python3",
      "display_name": "Python 3"
    },
    "language_info": {
      "name": "python"
    }
  },
  "cells": [
    {
      "cell_type": "markdown",
      "source": [
        "\n",
        "\n",
        "# **TOPIC: Python Basics Variable**\n"
      ],
      "metadata": {
        "id": "BY-0kdO_HV5_"
      }
    },
    {
      "cell_type": "markdown",
      "source": [
        "1. Declare two variables, `x` and `y`, and assign them integer values.\n",
        "Swap the values of these variables without using any temporary\n",
        "variable."
      ],
      "metadata": {
        "id": "D-TSLTy6EMyR"
      }
    },
    {
      "cell_type": "code",
      "execution_count": 4,
      "metadata": {
        "colab": {
          "base_uri": "https://localhost:8080/"
        },
        "id": "NJkM0k44ED1Y",
        "outputId": "8c6115b4-2122-4c0d-ea21-fed298da11e8"
      },
      "outputs": [
        {
          "output_type": "execute_result",
          "data": {
            "text/plain": [
              "(1, 2)"
            ]
          },
          "metadata": {},
          "execution_count": 4
        }
      ],
      "source": [
        "x=1\n",
        "y=2\n",
        "x,y"
      ]
    },
    {
      "cell_type": "code",
      "source": [
        "c=x\n",
        "x=y\n",
        "y=c\n",
        "x,y"
      ],
      "metadata": {
        "colab": {
          "base_uri": "https://localhost:8080/"
        },
        "id": "mKvWjPBPELXa",
        "outputId": "568eeee5-bdb6-42ad-9129-f43357758606"
      },
      "execution_count": 5,
      "outputs": [
        {
          "output_type": "execute_result",
          "data": {
            "text/plain": [
              "(2, 1)"
            ]
          },
          "metadata": {},
          "execution_count": 5
        }
      ]
    },
    {
      "cell_type": "markdown",
      "source": [
        "2. Create a program that calculates the area of a rectangle. Take the\n",
        "length and width as inputs from the user and store them in variables.\n",
        "Calculate and display the area."
      ],
      "metadata": {
        "id": "eXRPTs_tFD3p"
      }
    },
    {
      "cell_type": "code",
      "source": [
        "length = float(input('Enter the length of the rectangle : '))\n",
        "breadth = float(input('Enter the breadth of the rectangle : '))\n",
        "area = length * breadth\n",
        "print('Area of Rectangle is :',area)"
      ],
      "metadata": {
        "colab": {
          "base_uri": "https://localhost:8080/"
        },
        "id": "BvL4J4MzE2VK",
        "outputId": "8e7f501a-4c4f-4a6a-bec7-bb3dbf21e66d"
      },
      "execution_count": 7,
      "outputs": [
        {
          "output_type": "stream",
          "name": "stdout",
          "text": [
            "Enter the length of the rectangle : 25\n",
            "Enter the breadth of the rectangle : 10\n",
            "Area of Rectangle is : 250.0\n"
          ]
        }
      ]
    },
    {
      "cell_type": "markdown",
      "source": [
        "3. Write a Python program that converts temperature from Celsius to\n",
        "Fahrenheit. Take the temperature in Celsius as input, store it in a\n",
        "variable, convert it to Fahrenheit, and display the result."
      ],
      "metadata": {
        "id": "wOwkWLo3F3E1"
      }
    },
    {
      "cell_type": "code",
      "source": [
        "celsius = float(input('Enter the temperature in celsius : '))\n",
        "fahrenheit = (celsius * 9/5) + 32\n",
        "print('Celsius :',celsius,'Fahrenheit : ',fahrenheit)"
      ],
      "metadata": {
        "colab": {
          "base_uri": "https://localhost:8080/"
        },
        "id": "tU6GE4KYFqaF",
        "outputId": "7168ecf5-47a3-41e3-ec51-75f6e1d422b8"
      },
      "execution_count": 8,
      "outputs": [
        {
          "output_type": "stream",
          "name": "stdout",
          "text": [
            "Enter the temperature in celsius30\n",
            "Celsius : 30.0 Fahrenheit :  86.0\n"
          ]
        }
      ]
    },
    {
      "cell_type": "markdown",
      "source": [
        "# **TOPIC: String Based Questions**"
      ],
      "metadata": {
        "id": "cgXZXNp1Hen_"
      }
    },
    {
      "cell_type": "markdown",
      "source": [
        "1. Write a Python program that takes a string as input and prints the\n",
        "length of the string."
      ],
      "metadata": {
        "id": "dpJgxnxnHejU"
      }
    },
    {
      "cell_type": "code",
      "source": [
        "name = str(input('Enter Your Name : '))\n",
        "print('Name : ',name,'Length : ',len(name))"
      ],
      "metadata": {
        "colab": {
          "base_uri": "https://localhost:8080/"
        },
        "id": "CqcoTHhCG89Y",
        "outputId": "c89ee9a6-bf42-457f-962d-549b6e2cb360"
      },
      "execution_count": 9,
      "outputs": [
        {
          "output_type": "stream",
          "name": "stdout",
          "text": [
            "Enter Your Name : om\n",
            "Name :  om Length :  2\n"
          ]
        }
      ]
    },
    {
      "cell_type": "markdown",
      "source": [
        "2. Create a program that takes a sentence from the user and counts the\n",
        "number of vowels (a, e, i, o, u) in the string."
      ],
      "metadata": {
        "id": "746iehFEIiiN"
      }
    },
    {
      "cell_type": "code",
      "source": [
        "name = str(input('Enter Your Name : '))\n",
        "vowel = ('a','e','i','o','u')\n",
        "counter = 0\n",
        "for i in name:\n",
        "  if i in vowel:\n",
        "    counter = counter + 1\n",
        "  else:\n",
        "    pass\n",
        "print('Number of Vowels in Your Name is : ' , counter)"
      ],
      "metadata": {
        "colab": {
          "base_uri": "https://localhost:8080/"
        },
        "id": "caUkq4oXILWg",
        "outputId": "2cdd6d10-09b7-4502-b72e-963cec52e8d1"
      },
      "execution_count": 14,
      "outputs": [
        {
          "output_type": "stream",
          "name": "stdout",
          "text": [
            "Enter Your Name : sahil\n",
            "Number of Vowels in Your Name is :  2\n"
          ]
        }
      ]
    },
    {
      "cell_type": "markdown",
      "source": [
        "3. Given a string, reverse the order of characters using string slicing and\n",
        "print the reversed string."
      ],
      "metadata": {
        "id": "Bpzqf72ZKAhf"
      }
    },
    {
      "cell_type": "code",
      "source": [
        "name = 'Om Singh'\n",
        "print('Reverse Order of Name  : ' , name[::-1])"
      ],
      "metadata": {
        "colab": {
          "base_uri": "https://localhost:8080/"
        },
        "id": "3EzQadsJJwet",
        "outputId": "780e9859-1237-481e-cb04-7192703b0a30"
      },
      "execution_count": 16,
      "outputs": [
        {
          "output_type": "stream",
          "name": "stdout",
          "text": [
            "Reverse Order of Name  :  hgniS mO\n"
          ]
        }
      ]
    },
    {
      "cell_type": "markdown",
      "source": [
        "4. Write a program that takes a string as input and checks if it is a\n",
        "palindrome (reads the same forwards and backwards)."
      ],
      "metadata": {
        "id": "tUG-C3muLLmv"
      }
    },
    {
      "cell_type": "code",
      "source": [
        "word = str(input('Enter a word : '))\n",
        "palindrome = word[::-1]\n",
        "if word != palindrome:\n",
        "  print('Word is not a Palindrome')\n",
        "else:\n",
        "  print('Word is a Palindrome')"
      ],
      "metadata": {
        "colab": {
          "base_uri": "https://localhost:8080/"
        },
        "id": "io6Y14BnLDOx",
        "outputId": "11e82366-ad93-4e02-f4dc-e727e98dbd59"
      },
      "execution_count": 18,
      "outputs": [
        {
          "output_type": "stream",
          "name": "stdout",
          "text": [
            "Enter a word : om singh\n",
            "Word is not a Palindrome\n"
          ]
        }
      ]
    },
    {
      "cell_type": "markdown",
      "source": [
        "5. Create a program that takes a string as input and removes all the\n",
        "spaces from it. Print the modified string without spaces.\n",
        "\n",
        "\n"
      ],
      "metadata": {
        "id": "fHBV7D8AMLd7"
      }
    },
    {
      "cell_type": "code",
      "source": [
        "word = str(input('Enter a word : '))\n",
        "print('Space Removed : ' , word.replace(\" \",\"\"))"
      ],
      "metadata": {
        "colab": {
          "base_uri": "https://localhost:8080/"
        },
        "id": "SmL4CgRhMBso",
        "outputId": "d2e37872-8f6e-48d4-9997-21922e1883a3"
      },
      "execution_count": 19,
      "outputs": [
        {
          "output_type": "stream",
          "name": "stdout",
          "text": [
            "Enter a word : om shyam singh\n",
            "Space Removed :  omshyamsingh\n"
          ]
        }
      ]
    },
    {
      "cell_type": "code",
      "source": [],
      "metadata": {
        "id": "Bmb68vIJNW3j"
      },
      "execution_count": null,
      "outputs": []
    }
  ]
}