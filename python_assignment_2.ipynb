{
  "nbformat": 4,
  "nbformat_minor": 0,
  "metadata": {
    "colab": {
      "provenance": []
    },
    "kernelspec": {
      "name": "python3",
      "display_name": "Python 3"
    },
    "language_info": {
      "name": "python"
    }
  },
  "cells": [
    {
      "cell_type": "markdown",
      "source": [
        "# **TOPIC: String Based Assignment Problem**"
      ],
      "metadata": {
        "id": "ynhSdiuqn4dy"
      }
    },
    {
      "cell_type": "markdown",
      "source": [
        "1. Write a program to reverse a string.\n"
      ],
      "metadata": {
        "id": "s7H_gcmGn-Ku"
      }
    },
    {
      "cell_type": "code",
      "execution_count": 1,
      "metadata": {
        "colab": {
          "base_uri": "https://localhost:8080/"
        },
        "id": "HemBYkw5jh95",
        "outputId": "c30411da-6fb0-41d5-9c65-be55fb4bfaa5"
      },
      "outputs": [
        {
          "output_type": "stream",
          "name": "stdout",
          "text": [
            "Reverse string is :  hgnis mo\n"
          ]
        }
      ],
      "source": [
        "name = 'om singh'\n",
        "print('Reverse string is : ', name[::-1])"
      ]
    },
    {
      "cell_type": "markdown",
      "source": [
        "2. Check if a string is a palindrome.\n"
      ],
      "metadata": {
        "id": "0MhLVs0koB7o"
      }
    },
    {
      "cell_type": "code",
      "source": [
        "name = 'omo'\n",
        "if name == name[::-1]:\n",
        "  print(f'The enterd word is {name} a palindrome')\n",
        "else:\n",
        "  print(f'The entered word is {name} a not palindrome')"
      ],
      "metadata": {
        "colab": {
          "base_uri": "https://localhost:8080/"
        },
        "id": "WPaAMdT4n8hY",
        "outputId": "cb5633f3-a201-4b9f-9334-67c7a216b455"
      },
      "execution_count": 2,
      "outputs": [
        {
          "output_type": "stream",
          "name": "stdout",
          "text": [
            "The enterd word is omo a palindrome\n"
          ]
        }
      ]
    },
    {
      "cell_type": "markdown",
      "source": [
        "3. Convert a string to uppercase.\n"
      ],
      "metadata": {
        "id": "pCqv70vAoF25"
      }
    },
    {
      "cell_type": "code",
      "source": [
        "print('Upper Case ' , name.upper())"
      ],
      "metadata": {
        "colab": {
          "base_uri": "https://localhost:8080/"
        },
        "id": "jmSG3CJLohZD",
        "outputId": "26be2af2-45ef-4960-e420-c69643fe592d"
      },
      "execution_count": 3,
      "outputs": [
        {
          "output_type": "stream",
          "name": "stdout",
          "text": [
            "Upper Case  OMO\n"
          ]
        }
      ]
    },
    {
      "cell_type": "markdown",
      "source": [
        "4. Convert a string to lowercase.\n"
      ],
      "metadata": {
        "id": "_joViTj7oJUU"
      }
    },
    {
      "cell_type": "code",
      "source": [
        "print('Lower Case ' , name.lower())"
      ],
      "metadata": {
        "colab": {
          "base_uri": "https://localhost:8080/"
        },
        "id": "6qWC3NvPoxcR",
        "outputId": "2a7df8a7-435a-40d1-a336-dd9690298634"
      },
      "execution_count": 4,
      "outputs": [
        {
          "output_type": "stream",
          "name": "stdout",
          "text": [
            "Lower Case  omo\n"
          ]
        }
      ]
    },
    {
      "cell_type": "markdown",
      "source": [
        "5. Count the number of vowels in a string.\n"
      ],
      "metadata": {
        "id": "i--MC812oMOG"
      }
    },
    {
      "cell_type": "code",
      "source": [
        "name = 'Om singh'\n",
        "name = name.lower()\n",
        "vowels = ('a','e','i','o','u')\n",
        "c = 0\n",
        "for i in range(len(name)):\n",
        "  if name[i] in vowels:\n",
        "    c = c + 1\n",
        "  else:\n",
        "    pass\n",
        "print('Number Of Vowels is ', c)\n"
      ],
      "metadata": {
        "colab": {
          "base_uri": "https://localhost:8080/"
        },
        "id": "gFtlxKtAo3Jw",
        "outputId": "5c982fd3-1a8f-4849-9596-dc20d0ab12bd"
      },
      "execution_count": 5,
      "outputs": [
        {
          "output_type": "stream",
          "name": "stdout",
          "text": [
            "Number Of Vowels is  2\n"
          ]
        }
      ]
    },
    {
      "cell_type": "markdown",
      "source": [
        "6. Count the number of consonants in a string.\n"
      ],
      "metadata": {
        "id": "1Hca23raoPKm"
      }
    },
    {
      "cell_type": "code",
      "source": [
        "name = 'Om singh'\n",
        "name = name.lower()\n",
        "vowels = ('a','e','i','o','u')\n",
        "c = 0\n",
        "for i in range(len(name)):\n",
        "  if name[i] not in vowels:\n",
        "    c = c + 1\n",
        "  else:\n",
        "    pass\n",
        "print('Number Of Consanants is ', c)"
      ],
      "metadata": {
        "colab": {
          "base_uri": "https://localhost:8080/"
        },
        "id": "a4mmZ_HDrkiD",
        "outputId": "f9a91631-fe38-4a1b-97f1-45baed073739"
      },
      "execution_count": 6,
      "outputs": [
        {
          "output_type": "stream",
          "name": "stdout",
          "text": [
            "Number Of Consanants is  6\n"
          ]
        }
      ]
    },
    {
      "cell_type": "markdown",
      "source": [
        "7. Remove all whitespaces from a string.\n"
      ],
      "metadata": {
        "id": "s4hVlbodoRwT"
      }
    },
    {
      "cell_type": "code",
      "source": [
        "print('Whitespaced removed : ' ,name.replace(\" \", ''))"
      ],
      "metadata": {
        "colab": {
          "base_uri": "https://localhost:8080/"
        },
        "id": "Sbuma5hpr3G3",
        "outputId": "d6a79930-922a-4a05-a5ce-81131bdd11fd"
      },
      "execution_count": 7,
      "outputs": [
        {
          "output_type": "stream",
          "name": "stdout",
          "text": [
            "Whitespaced removed :  omsingh\n"
          ]
        }
      ]
    },
    {
      "cell_type": "markdown",
      "source": [
        "8. Find the length of a string without using the `len()` function.\n"
      ],
      "metadata": {
        "id": "W_89qVFEoVyq"
      }
    },
    {
      "cell_type": "code",
      "source": [
        "name = 'Om singh'\n",
        "name = name.lower()\n",
        "c = 0\n",
        "for i in name:\n",
        "  c += 1\n",
        "print('Length of String is ', c)"
      ],
      "metadata": {
        "colab": {
          "base_uri": "https://localhost:8080/"
        },
        "id": "9n1EUNj_sOk4",
        "outputId": "f51952e5-5e55-42b0-a747-41dd47d951d9"
      },
      "execution_count": 8,
      "outputs": [
        {
          "output_type": "stream",
          "name": "stdout",
          "text": [
            "Length of String is  8\n"
          ]
        }
      ]
    },
    {
      "cell_type": "markdown",
      "source": [
        "9. Check if a string contains a specific word.\n"
      ],
      "metadata": {
        "id": "WozL1Ap8oYeO"
      }
    },
    {
      "cell_type": "code",
      "source": [
        "data = 'a' in name\n",
        "if data is True:\n",
        "  print('The String contain variable a')\n",
        "else:\n",
        "  print('The String doesnot contain variable a')"
      ],
      "metadata": {
        "colab": {
          "base_uri": "https://localhost:8080/"
        },
        "id": "vAMeEQqGtRZK",
        "outputId": "1fcf9f57-6a5e-45ad-f81c-035a9a21fbf9"
      },
      "execution_count": 9,
      "outputs": [
        {
          "output_type": "stream",
          "name": "stdout",
          "text": [
            "The String doesnot contain variable a\n"
          ]
        }
      ]
    },
    {
      "cell_type": "markdown",
      "source": [
        "10. Replace a word in a string with another word.\n"
      ],
      "metadata": {
        "id": "njPrDAJ-obae"
      }
    },
    {
      "cell_type": "code",
      "source": [
        "name.replace('om','sahil')"
      ],
      "metadata": {
        "colab": {
          "base_uri": "https://localhost:8080/",
          "height": 36
        },
        "id": "sG5mzfeloFF8",
        "outputId": "ba42ebb4-4e0f-464a-a81f-8bd6089dbff0"
      },
      "execution_count": 10,
      "outputs": [
        {
          "output_type": "execute_result",
          "data": {
            "text/plain": [
              "'sahil singh'"
            ],
            "application/vnd.google.colaboratory.intrinsic+json": {
              "type": "string"
            }
          },
          "metadata": {},
          "execution_count": 10
        }
      ]
    },
    {
      "cell_type": "markdown",
      "source": [
        "11. Count the occurrences of a word in a string.\n"
      ],
      "metadata": {
        "id": "Q2hxneIpuv0z"
      }
    },
    {
      "cell_type": "code",
      "source": [
        "print(f'The Count of s in {name} is : ' ,name.count('s'))"
      ],
      "metadata": {
        "colab": {
          "base_uri": "https://localhost:8080/"
        },
        "id": "MMX7m-5ZvA0l",
        "outputId": "ea8f8a31-a256-4e41-ec46-9209ba7fa807"
      },
      "execution_count": 11,
      "outputs": [
        {
          "output_type": "stream",
          "name": "stdout",
          "text": [
            "The Count of s in om singh is :  1\n"
          ]
        }
      ]
    },
    {
      "cell_type": "markdown",
      "source": [
        "12. Find the first occurrence of a word in a string.\n"
      ],
      "metadata": {
        "id": "l5auBdRNux1z"
      }
    },
    {
      "cell_type": "code",
      "source": [
        "name= 'sahil singh'\n",
        "print(f'The Index of s in {name} is : ' ,name.index('s'))"
      ],
      "metadata": {
        "colab": {
          "base_uri": "https://localhost:8080/"
        },
        "id": "QiyFzG3Tvcye",
        "outputId": "f92528e8-8e27-4ac0-f160-9798bcb95c4d"
      },
      "execution_count": 12,
      "outputs": [
        {
          "output_type": "stream",
          "name": "stdout",
          "text": [
            "The Index of s in sahil singh is :  0\n"
          ]
        }
      ]
    },
    {
      "cell_type": "markdown",
      "source": [
        "13. Find the last occurrence of a word in a string.\n"
      ],
      "metadata": {
        "id": "FySFC493u1wx"
      }
    },
    {
      "cell_type": "code",
      "source": [
        "name= 'sahil singh'\n",
        "print(f'The Index of s in {name} is : ' ,name.rfind('s'))"
      ],
      "metadata": {
        "colab": {
          "base_uri": "https://localhost:8080/"
        },
        "id": "mKHdSTKuwIT3",
        "outputId": "0651c7f1-015a-4575-a6e1-2dc403d3780c"
      },
      "execution_count": 13,
      "outputs": [
        {
          "output_type": "stream",
          "name": "stdout",
          "text": [
            "The Index of s in sahil singh is :  6\n"
          ]
        }
      ]
    },
    {
      "cell_type": "markdown",
      "source": [
        "14. Split a string into a list of words.\n"
      ],
      "metadata": {
        "id": "5Fa1U4VWu8MI"
      }
    },
    {
      "cell_type": "code",
      "source": [
        "name = 'Hi Mandalor_09'\n",
        "words_list = []\n",
        "for character in range(len(name)):\n",
        "  if name[character] != ' ':\n",
        "    words_list.append(str(name[character]))\n",
        "  else:\n",
        "    pass\n",
        "print(words_list)"
      ],
      "metadata": {
        "colab": {
          "base_uri": "https://localhost:8080/"
        },
        "id": "FFPqBfe4wXM9",
        "outputId": "ea1fb967-e7a4-4242-fd2c-89c202436bbb"
      },
      "execution_count": 14,
      "outputs": [
        {
          "output_type": "stream",
          "name": "stdout",
          "text": [
            "['H', 'i', 'M', 'a', 'n', 'd', 'a', 'l', 'o', 'r', '_', '0', '9']\n"
          ]
        }
      ]
    },
    {
      "cell_type": "markdown",
      "source": [
        "15. Join a list of words into a string.\n"
      ],
      "metadata": {
        "id": "8vvcF4P4u_XR"
      }
    },
    {
      "cell_type": "code",
      "source": [
        "words_list = ['H', 'i', 'M', 'a', 'n', 'd', 'a', 'l', 'o', 'r', '_', '0', '9']\n",
        "data = ''\n",
        "for i in range(len(words_list)):\n",
        "  data += str(words_list[i])\n",
        "data"
      ],
      "metadata": {
        "colab": {
          "base_uri": "https://localhost:8080/",
          "height": 36
        },
        "id": "SBEjs06yurOZ",
        "outputId": "8f76650a-9a54-4967-d108-9e74faf80e03"
      },
      "execution_count": 15,
      "outputs": [
        {
          "output_type": "execute_result",
          "data": {
            "text/plain": [
              "'HiMandalor_09'"
            ],
            "application/vnd.google.colaboratory.intrinsic+json": {
              "type": "string"
            }
          },
          "metadata": {},
          "execution_count": 15
        }
      ]
    },
    {
      "cell_type": "markdown",
      "source": [
        "16. Convert a string where words are separated by spaces to one where words\n",
        "are separated by underscores.\n"
      ],
      "metadata": {
        "id": "XQ49Axwt2uBh"
      }
    },
    {
      "cell_type": "code",
      "source": [
        "name.replace(' ','_')"
      ],
      "metadata": {
        "colab": {
          "base_uri": "https://localhost:8080/",
          "height": 36
        },
        "id": "9PD-0C5-3Kjv",
        "outputId": "28e341a8-2a75-4146-c4d9-c0132c0b1465"
      },
      "execution_count": 16,
      "outputs": [
        {
          "output_type": "execute_result",
          "data": {
            "text/plain": [
              "'Hi_Mandalor_09'"
            ],
            "application/vnd.google.colaboratory.intrinsic+json": {
              "type": "string"
            }
          },
          "metadata": {},
          "execution_count": 16
        }
      ]
    },
    {
      "cell_type": "markdown",
      "source": [
        "17. Check if a string starts with a specific word or phrase.\n"
      ],
      "metadata": {
        "id": "98tY-79i2vRE"
      }
    },
    {
      "cell_type": "code",
      "source": [
        "data = name[0] == 'H'\n",
        "if data:\n",
        "  print('Word starts with H')\n",
        "else:\n",
        "  print('Word doesnot starts with H')\n"
      ],
      "metadata": {
        "colab": {
          "base_uri": "https://localhost:8080/"
        },
        "id": "jcRTFHDc3hwP",
        "outputId": "4e325de2-f1b7-4b97-cd6f-4f38a7f06d9f"
      },
      "execution_count": 17,
      "outputs": [
        {
          "output_type": "stream",
          "name": "stdout",
          "text": [
            "Word starts with H\n"
          ]
        }
      ]
    },
    {
      "cell_type": "markdown",
      "source": [
        "18. Check if a string ends with a specific word or phrase.\n"
      ],
      "metadata": {
        "id": "p3-bNPGj2yYv"
      }
    },
    {
      "cell_type": "code",
      "source": [
        "data = name[-1] == 'H'\n",
        "if data:\n",
        "  print('Word ends with H')\n",
        "else:\n",
        "  print('Word doesnot ends with H')"
      ],
      "metadata": {
        "colab": {
          "base_uri": "https://localhost:8080/"
        },
        "id": "4G7SZw0i3-12",
        "outputId": "9f265bd0-129b-4f61-f9fd-4b4b71b3aaf2"
      },
      "execution_count": 18,
      "outputs": [
        {
          "output_type": "stream",
          "name": "stdout",
          "text": [
            "Word doesnot ends with H\n"
          ]
        }
      ]
    },
    {
      "cell_type": "markdown",
      "source": [
        "19. Convert a string to title case (e.g., \"hello world\" to \"Hello World\").\n"
      ],
      "metadata": {
        "id": "V3pVkwQu21Lq"
      }
    },
    {
      "cell_type": "code",
      "source": [
        "name = 'hi mandalor_09'\n",
        "name.title()"
      ],
      "metadata": {
        "colab": {
          "base_uri": "https://localhost:8080/",
          "height": 36
        },
        "id": "1PZDgUcH4H2R",
        "outputId": "1c7dd92b-6159-42ee-ab5d-689030e6d965"
      },
      "execution_count": 19,
      "outputs": [
        {
          "output_type": "execute_result",
          "data": {
            "text/plain": [
              "'Hi Mandalor_09'"
            ],
            "application/vnd.google.colaboratory.intrinsic+json": {
              "type": "string"
            }
          },
          "metadata": {},
          "execution_count": 19
        }
      ]
    },
    {
      "cell_type": "markdown",
      "source": [
        "20. Find the longest word in a string.\n"
      ],
      "metadata": {
        "id": "cRbAucos27XJ"
      }
    },
    {
      "cell_type": "code",
      "source": [
        "data = name.split()\n",
        "print('Longest word data : ', max(data, key=len))"
      ],
      "metadata": {
        "colab": {
          "base_uri": "https://localhost:8080/"
        },
        "id": "6_pjPcZA4WAS",
        "outputId": "60f38aed-656f-4c59-8496-ea5c913bb912"
      },
      "execution_count": 20,
      "outputs": [
        {
          "output_type": "stream",
          "name": "stdout",
          "text": [
            "Longest word data :  mandalor_09\n"
          ]
        }
      ]
    },
    {
      "cell_type": "markdown",
      "source": [
        "21. Find the shortest word in a string.\n"
      ],
      "metadata": {
        "id": "VmEQdzT129Ne"
      }
    },
    {
      "cell_type": "code",
      "source": [
        "data = name.split()\n",
        "print('Longest word data : ', min(data, key=len))"
      ],
      "metadata": {
        "colab": {
          "base_uri": "https://localhost:8080/"
        },
        "id": "OBPFC5t56kyL",
        "outputId": "ffc4853e-51fc-45f5-e0e6-189f3623214f"
      },
      "execution_count": 21,
      "outputs": [
        {
          "output_type": "stream",
          "name": "stdout",
          "text": [
            "Longest word data :  hi\n"
          ]
        }
      ]
    },
    {
      "cell_type": "markdown",
      "source": [
        "22. Reverse the order of words in a string.\n",
        "\n"
      ],
      "metadata": {
        "id": "0EaVezAu2_56"
      }
    },
    {
      "cell_type": "code",
      "source": [
        "\n",
        "name = 'hi mandalor_09'\n",
        "words = name.split()\n",
        "reversed_words = ' '.join(words[::-1])\n",
        "reversed_words"
      ],
      "metadata": {
        "colab": {
          "base_uri": "https://localhost:8080/",
          "height": 36
        },
        "id": "Y7WyrpZD6uIw",
        "outputId": "3b88bdbb-312a-4b10-bd5a-cb477799e94a"
      },
      "execution_count": 22,
      "outputs": [
        {
          "output_type": "execute_result",
          "data": {
            "text/plain": [
              "'mandalor_09 hi'"
            ],
            "application/vnd.google.colaboratory.intrinsic+json": {
              "type": "string"
            }
          },
          "metadata": {},
          "execution_count": 22
        }
      ]
    },
    {
      "cell_type": "markdown",
      "source": [
        "23. Check if a string is alphanumeric.\n"
      ],
      "metadata": {
        "id": "bEAuTloP3CUg"
      }
    },
    {
      "cell_type": "code",
      "source": [
        "data = name.isalnum()\n",
        "if data:\n",
        "  print('String is Alphanumeric')\n",
        "if not data:\n",
        "  print('String is not Alphanumeric')"
      ],
      "metadata": {
        "colab": {
          "base_uri": "https://localhost:8080/"
        },
        "id": "sqLDXYbw7pa_",
        "outputId": "59836595-44da-40c5-c5d1-4193dd3925c4"
      },
      "execution_count": 23,
      "outputs": [
        {
          "output_type": "stream",
          "name": "stdout",
          "text": [
            "String is not Alphanumeric\n"
          ]
        }
      ]
    },
    {
      "cell_type": "markdown",
      "source": [
        "24. Extract all digits from a string.\n"
      ],
      "metadata": {
        "id": "kz0-RBix3GtB"
      }
    },
    {
      "cell_type": "code",
      "source": [
        "data = []\n",
        "for i in range(len(name)):\n",
        "  if name[i].isnumeric():\n",
        "    data.append(name[i])\n",
        "data"
      ],
      "metadata": {
        "colab": {
          "base_uri": "https://localhost:8080/"
        },
        "id": "ER_XL8Jv16YL",
        "outputId": "2f9ff20a-8459-4cb9-c4a0-4af8a71e2f4c"
      },
      "execution_count": 24,
      "outputs": [
        {
          "output_type": "execute_result",
          "data": {
            "text/plain": [
              "['0', '9']"
            ]
          },
          "metadata": {},
          "execution_count": 24
        }
      ]
    },
    {
      "cell_type": "markdown",
      "source": [
        "25. Extract all alphabets from a string.\n"
      ],
      "metadata": {
        "id": "q30kL_h88lO0"
      }
    },
    {
      "cell_type": "code",
      "source": [
        "data = []\n",
        "for i in range(len(name)):\n",
        "  if name[i].isalpha():\n",
        "    data.append(name[i])\n",
        "data"
      ],
      "metadata": {
        "colab": {
          "base_uri": "https://localhost:8080/"
        },
        "id": "L2JITizD80FR",
        "outputId": "af32331f-5b9e-41dd-a49c-4bf646b82ec3"
      },
      "execution_count": 25,
      "outputs": [
        {
          "output_type": "execute_result",
          "data": {
            "text/plain": [
              "['h', 'i', 'm', 'a', 'n', 'd', 'a', 'l', 'o', 'r']"
            ]
          },
          "metadata": {},
          "execution_count": 25
        }
      ]
    },
    {
      "cell_type": "markdown",
      "source": [
        "26. Count the number of uppercase letters in a string.\n"
      ],
      "metadata": {
        "id": "nwyANoM08oTo"
      }
    },
    {
      "cell_type": "code",
      "source": [
        "name = 'Hi Mandalor'\n",
        "c = 0\n",
        "for character in name:\n",
        "  if character.isupper():\n",
        "    c += 1\n",
        "c"
      ],
      "metadata": {
        "colab": {
          "base_uri": "https://localhost:8080/"
        },
        "id": "ApWH296389xI",
        "outputId": "3d969256-75cd-4327-dcc6-f5ee24e54e73"
      },
      "execution_count": 26,
      "outputs": [
        {
          "output_type": "execute_result",
          "data": {
            "text/plain": [
              "2"
            ]
          },
          "metadata": {},
          "execution_count": 26
        }
      ]
    },
    {
      "cell_type": "markdown",
      "source": [
        "27. Count the number of lowercase letters in a string.\n"
      ],
      "metadata": {
        "id": "ToStFCn48q3Z"
      }
    },
    {
      "cell_type": "code",
      "source": [
        "name = 'Hi Mandalor'\n",
        "c = 0\n",
        "for character in name:\n",
        "  if not character.isupper():\n",
        "    c += 1\n",
        "c"
      ],
      "metadata": {
        "colab": {
          "base_uri": "https://localhost:8080/"
        },
        "id": "4pFw90LT9t7r",
        "outputId": "becc214c-f7b9-44f7-e655-f2f1853d5799"
      },
      "execution_count": 27,
      "outputs": [
        {
          "output_type": "execute_result",
          "data": {
            "text/plain": [
              "9"
            ]
          },
          "metadata": {},
          "execution_count": 27
        }
      ]
    },
    {
      "cell_type": "markdown",
      "source": [
        "28. Swap the case of each character in a string.\n"
      ],
      "metadata": {
        "id": "Wfgu3kCS8r0C"
      }
    },
    {
      "cell_type": "code",
      "source": [
        "name = 'Hi Mandalor'\n",
        "new_name = ''\n",
        "for i in range(len(name)):\n",
        "    if name[i].isupper():\n",
        "        new_name += name[i].lower()\n",
        "    else:\n",
        "        if name[i].islower():\n",
        "            new_name += name[i].upper()\n",
        "print(new_name)\n"
      ],
      "metadata": {
        "colab": {
          "base_uri": "https://localhost:8080/"
        },
        "id": "MUiWSPKa97B0",
        "outputId": "2bff6d10-e609-404c-d776-f6e092ae3210"
      },
      "execution_count": 28,
      "outputs": [
        {
          "output_type": "stream",
          "name": "stdout",
          "text": [
            "hImANDALOR\n"
          ]
        }
      ]
    },
    {
      "cell_type": "markdown",
      "source": [
        "29. Remove a specific word from a string.\n"
      ],
      "metadata": {
        "id": "dX9LsfLC8wDE"
      }
    },
    {
      "cell_type": "code",
      "source": [
        "sentence = 'hi bro whats up'\n",
        "words_in_sentence = list(sentence.split(' '))\n",
        "remove_words = 'bro'\n",
        "new_sentence = ''\n",
        "if remove_words in words_in_sentence:\n",
        "  words_in_sentence.remove(remove_words)\n",
        "  for i in range(len(words_in_sentence)):\n",
        "    new_sentence = ' '.join(words_in_sentence)\n",
        "  print(new_sentence)\n",
        "else:\n",
        "  print('No Such Words')"
      ],
      "metadata": {
        "colab": {
          "base_uri": "https://localhost:8080/"
        },
        "id": "eaJ2wFyGdP8C",
        "outputId": "b34ac396-ea8d-4c19-f3ad-61de2ecef60a"
      },
      "execution_count": 29,
      "outputs": [
        {
          "output_type": "stream",
          "name": "stdout",
          "text": [
            "hi whats up\n"
          ]
        }
      ]
    },
    {
      "cell_type": "markdown",
      "source": [
        "30. Check if a string is a valid email address."
      ],
      "metadata": {
        "id": "_wNVSlfY8y8S"
      }
    },
    {
      "cell_type": "code",
      "source": [
        "email = 'omS4jhk@gmail.com'\n",
        "email = email.lower()\n",
        "if '@' in email and '.' in email:\n",
        "  print('Valid Email')\n",
        "else:\n",
        "  print('Invalid Email')\n",
        "\n"
      ],
      "metadata": {
        "colab": {
          "base_uri": "https://localhost:8080/"
        },
        "id": "_3DYwfHShVnM",
        "outputId": "af76e6df-4223-4b9c-e744-901ca413ee4f"
      },
      "execution_count": 30,
      "outputs": [
        {
          "output_type": "stream",
          "name": "stdout",
          "text": [
            "Valid Email\n"
          ]
        }
      ]
    },
    {
      "cell_type": "markdown",
      "source": [
        "31. Extract the username from an email address string.\n"
      ],
      "metadata": {
        "id": "DFiV_jrcicCM"
      }
    },
    {
      "cell_type": "code",
      "source": [
        "username = email.split('@')[0]\n",
        "username"
      ],
      "metadata": {
        "colab": {
          "base_uri": "https://localhost:8080/",
          "height": 36
        },
        "id": "OW7esAHdi8x6",
        "outputId": "25bd476e-f7be-4f40-f45f-0925ee0f7284"
      },
      "execution_count": 31,
      "outputs": [
        {
          "output_type": "execute_result",
          "data": {
            "text/plain": [
              "'oms4jhk'"
            ],
            "application/vnd.google.colaboratory.intrinsic+json": {
              "type": "string"
            }
          },
          "metadata": {},
          "execution_count": 31
        }
      ]
    },
    {
      "cell_type": "markdown",
      "source": [
        "32. Extract the domain name from an email address string.\n"
      ],
      "metadata": {
        "id": "yGbdY3qPigVG"
      }
    },
    {
      "cell_type": "code",
      "source": [
        "domain = email.split('@')[1]\n",
        "domain"
      ],
      "metadata": {
        "colab": {
          "base_uri": "https://localhost:8080/",
          "height": 36
        },
        "id": "-w3YjAXqjImY",
        "outputId": "0293e0dc-1012-4bc2-8074-20a34002241a"
      },
      "execution_count": 32,
      "outputs": [
        {
          "output_type": "execute_result",
          "data": {
            "text/plain": [
              "'gmail.com'"
            ],
            "application/vnd.google.colaboratory.intrinsic+json": {
              "type": "string"
            }
          },
          "metadata": {},
          "execution_count": 32
        }
      ]
    },
    {
      "cell_type": "markdown",
      "source": [
        "33. Replace multiple spaces in a string with a single space.\n"
      ],
      "metadata": {
        "id": "GtmhIgA2ijMq"
      }
    },
    {
      "cell_type": "code",
      "source": [
        "name = 'HI mandalor'\n",
        "name.replace(' ','   ')"
      ],
      "metadata": {
        "colab": {
          "base_uri": "https://localhost:8080/",
          "height": 36
        },
        "id": "XKTAuJukjcJQ",
        "outputId": "65a85cda-04a5-4e7c-bdbe-e803ef20823b"
      },
      "execution_count": 33,
      "outputs": [
        {
          "output_type": "execute_result",
          "data": {
            "text/plain": [
              "'HI   mandalor'"
            ],
            "application/vnd.google.colaboratory.intrinsic+json": {
              "type": "string"
            }
          },
          "metadata": {},
          "execution_count": 33
        }
      ]
    },
    {
      "cell_type": "markdown",
      "source": [
        "34. Check if a string is a valid URL.\n"
      ],
      "metadata": {
        "id": "0mGUMjnHimLN"
      }
    },
    {
      "cell_type": "code",
      "source": [
        "url = 'http://127.0.0.1:80000/'\n",
        "if 'https' in url or 'http' in url:\n",
        "  print('Print url is valid')\n",
        "else:\n",
        "  print('Print url is not valid')"
      ],
      "metadata": {
        "id": "da3lxpHvjsEb",
        "colab": {
          "base_uri": "https://localhost:8080/"
        },
        "outputId": "0e102568-c486-43d4-a9f1-86c3883f8a47"
      },
      "execution_count": 34,
      "outputs": [
        {
          "output_type": "stream",
          "name": "stdout",
          "text": [
            "Print url is valid\n"
          ]
        }
      ]
    },
    {
      "cell_type": "markdown",
      "source": [
        "35. Extract the protocol (http or https) from a URL string."
      ],
      "metadata": {
        "id": "cxy58MK-inJ_"
      }
    },
    {
      "cell_type": "code",
      "source": [
        "url = 'http://127.0.0.1:80000/'\n",
        "colon_index = url.find(':')\n",
        "protocol = url[:colon_index]\n",
        "\n",
        "print(\"Protocol:\", protocol)\n"
      ],
      "metadata": {
        "colab": {
          "base_uri": "https://localhost:8080/"
        },
        "id": "tYG_73aUFqfI",
        "outputId": "44ca57dc-8aaf-4648-902c-00f3759ce2e9"
      },
      "execution_count": 35,
      "outputs": [
        {
          "output_type": "stream",
          "name": "stdout",
          "text": [
            "Protocol: http\n"
          ]
        }
      ]
    },
    {
      "cell_type": "markdown",
      "source": [
        "36. Find the frequency of each character in a string.\n"
      ],
      "metadata": {
        "id": "Z4Aw14e-ip0e"
      }
    },
    {
      "cell_type": "code",
      "source": [
        "url = 'http://127.0.0.1:80000/'\n",
        "words_list = []\n",
        "\n",
        "# Create a list of characters in the URL\n",
        "for character in url:\n",
        "    if character != ' ':\n",
        "        words_list.append(character)\n",
        "\n",
        "print('List with values is:', words_list)\n",
        "\n",
        "new_list = []\n",
        "# Create a list of unique characters\n",
        "for character in words_list:\n",
        "    if character not in new_list:\n",
        "        new_list.append(character)\n",
        "\n",
        "print('List with unique values is:', new_list)\n",
        "\n",
        "# Calculate and print the frequency of each character\n",
        "for char in new_list:\n",
        "    print(f'Frequency of {char}:', url.count(char))\n"
      ],
      "metadata": {
        "colab": {
          "base_uri": "https://localhost:8080/"
        },
        "id": "CWCT8PvOGBoj",
        "outputId": "f6ebe88b-a7e7-4cac-cd6b-f6fa2f390cca"
      },
      "execution_count": 36,
      "outputs": [
        {
          "output_type": "stream",
          "name": "stdout",
          "text": [
            "List with values is: ['h', 't', 't', 'p', ':', '/', '/', '1', '2', '7', '.', '0', '.', '0', '.', '1', ':', '8', '0', '0', '0', '0', '/']\n",
            "List with unique values is: ['h', 't', 'p', ':', '/', '1', '2', '7', '.', '0', '8']\n",
            "Frequency of h: 1\n",
            "Frequency of t: 2\n",
            "Frequency of p: 1\n",
            "Frequency of :: 2\n",
            "Frequency of /: 3\n",
            "Frequency of 1: 2\n",
            "Frequency of 2: 1\n",
            "Frequency of 7: 1\n",
            "Frequency of .: 3\n",
            "Frequency of 0: 6\n",
            "Frequency of 8: 1\n"
          ]
        }
      ]
    },
    {
      "cell_type": "markdown",
      "source": [
        "37. Remove all punctuation from a string.\n",
        "\n",
        "\n",
        "\n"
      ],
      "metadata": {
        "id": "GWudSg2Jisbo"
      }
    },
    {
      "cell_type": "code",
      "source": [
        "punctuation_chars = '''!()-[]{};:'\"\\,<>./?@#$%^&*_~'''\n",
        "clean_string = \"\"\n",
        "\n",
        "for char in url:\n",
        "  if char not in punctuation_chars:\n",
        "    clean_string += char\n",
        "print('String after removing punctaution : ' , clean_string)"
      ],
      "metadata": {
        "colab": {
          "base_uri": "https://localhost:8080/"
        },
        "id": "vx6BMV8cKJO9",
        "outputId": "952fce40-2826-4996-e068-f63c10813346"
      },
      "execution_count": 37,
      "outputs": [
        {
          "output_type": "stream",
          "name": "stdout",
          "text": [
            "String after removing punctaution :  http12700180000\n"
          ]
        }
      ]
    },
    {
      "cell_type": "markdown",
      "source": [
        "38. Check if a string contains only digits.\n"
      ],
      "metadata": {
        "id": "n5-YXSimixil"
      }
    },
    {
      "cell_type": "code",
      "source": [
        "print('String contains only digit') if url.isnumeric() else print('String doesnot contains only digit')"
      ],
      "metadata": {
        "colab": {
          "base_uri": "https://localhost:8080/"
        },
        "id": "gmbeQDpTK6SU",
        "outputId": "bdacea7e-a626-4973-ad8a-c2f1a4beb332"
      },
      "execution_count": 38,
      "outputs": [
        {
          "output_type": "stream",
          "name": "stdout",
          "text": [
            "String doesnot contains only digit\n"
          ]
        }
      ]
    },
    {
      "cell_type": "markdown",
      "source": [
        "39. Check if a string contains only alphabets.\n"
      ],
      "metadata": {
        "id": "8Q5uny6giyra"
      }
    },
    {
      "cell_type": "code",
      "source": [
        "print('String contains only alphabets') if url.isalpha() else print('String doesnot contains only alphabets')"
      ],
      "metadata": {
        "colab": {
          "base_uri": "https://localhost:8080/"
        },
        "id": "bnO-9TJBLtcj",
        "outputId": "55022d29-6ad9-4136-f6cb-0b4f905fe64f"
      },
      "execution_count": 39,
      "outputs": [
        {
          "output_type": "stream",
          "name": "stdout",
          "text": [
            "String doesnot contains only alphabets\n"
          ]
        }
      ]
    },
    {
      "cell_type": "markdown",
      "source": [
        "40. Convert a string to a list of characters.\n"
      ],
      "metadata": {
        "id": "xDo3IApzi1Kp"
      }
    },
    {
      "cell_type": "code",
      "source": [
        "words_list = []\n",
        "\n",
        "# Create a list of characters in the URL\n",
        "for character in url:\n",
        "    if character != ' ':\n",
        "        words_list.append(character)\n",
        "\n",
        "print('List with values is:', words_list)"
      ],
      "metadata": {
        "colab": {
          "base_uri": "https://localhost:8080/"
        },
        "id": "RCuVxMh_L90X",
        "outputId": "62f119ef-7ff3-455c-be9f-3f674d6f0b56"
      },
      "execution_count": 40,
      "outputs": [
        {
          "output_type": "stream",
          "name": "stdout",
          "text": [
            "List with values is: ['h', 't', 't', 'p', ':', '/', '/', '1', '2', '7', '.', '0', '.', '0', '.', '1', ':', '8', '0', '0', '0', '0', '/']\n"
          ]
        }
      ]
    },
    {
      "cell_type": "markdown",
      "source": [
        "41. Check if two strings are anagrams.\n",
        "Two strings are anagrams if they have the same characters, just rearranged."
      ],
      "metadata": {
        "id": "FDaPyj_1NFV0"
      }
    },
    {
      "cell_type": "code",
      "source": [
        "string1 = 'listen'\n",
        "string2 = 'silent'\n",
        "string1 = sorted(string1)\n",
        "string2 = sorted(string2)\n",
        "if string1 == string2:\n",
        "  print(f\"'{string1}' and '{string2}' are anagrams.\")\n",
        "else:\n",
        "  print(f\"'{string1}' and '{string2}' are not anagrams.\")"
      ],
      "metadata": {
        "colab": {
          "base_uri": "https://localhost:8080/"
        },
        "id": "tSwAgBUSONBk",
        "outputId": "5ede282d-4dc7-436d-c1cb-7a3ad3a82228"
      },
      "execution_count": 41,
      "outputs": [
        {
          "output_type": "stream",
          "name": "stdout",
          "text": [
            "'['e', 'i', 'l', 'n', 's', 't']' and '['e', 'i', 'l', 'n', 's', 't']' are anagrams.\n"
          ]
        }
      ]
    },
    {
      "cell_type": "markdown",
      "source": [
        "42. Encode a string using a Caesar cipher.\n"
      ],
      "metadata": {
        "id": "nH0TjuSgNGQ0"
      }
    },
    {
      "cell_type": "code",
      "source": [
        "encrypted_text = \"\"\n",
        "shift = 3\n",
        "url =\"om singh\"\n",
        "for char in url:\n",
        "  if char.isalpha():  # Only encrypt alphabetic characters\n",
        "    shift_amount = shift % 26  # Ensure shift stays within the alphabet\n",
        "    if char.isupper():\n",
        "      encrypted_char = chr(((ord(char) - ord('A') + shift_amount) % 26) + ord('A'))\n",
        "    else:\n",
        "      encrypted_char = chr(((ord(char) - ord('a') + shift_amount) % 26) + ord('a'))\n",
        "  else:\n",
        "    encrypted_char = char\n",
        "    encrypted_text += encrypted_char\n",
        "\n",
        "encrypted_text\n"
      ],
      "metadata": {
        "colab": {
          "base_uri": "https://localhost:8080/",
          "height": 36
        },
        "id": "bYJJg0dxPol_",
        "outputId": "9c7f5a29-33e4-4405-a7e3-005feab0f1c2"
      },
      "execution_count": 42,
      "outputs": [
        {
          "output_type": "execute_result",
          "data": {
            "text/plain": [
              "' '"
            ],
            "application/vnd.google.colaboratory.intrinsic+json": {
              "type": "string"
            }
          },
          "metadata": {},
          "execution_count": 42
        }
      ]
    },
    {
      "cell_type": "markdown",
      "source": [
        "43. Decode a Caesar cipher encoded string.\n"
      ],
      "metadata": {
        "id": "nILBO2VdNNp2"
      }
    },
    {
      "cell_type": "code",
      "source": [
        "encoded_text = encrypted_text\n",
        "shift = 3\n",
        "decoded_text = \"\"\n",
        "\n",
        "for char in encoded_text:\n",
        "    if char.isalpha():\n",
        "        if char.isupper():\n",
        "            decoded_char = chr(((ord(char) - ord('A') - shift) % 26) + ord('A'))\n",
        "        else:\n",
        "            decoded_char = chr(((ord(char) - ord('a') - shift) % 26) + ord('a'))\n",
        "    else:\n",
        "        decoded_char = char\n",
        "    decoded_text += decoded_char\n",
        "\n",
        "print(\"Decoded message:\", decoded_text)\n"
      ],
      "metadata": {
        "colab": {
          "base_uri": "https://localhost:8080/"
        },
        "id": "dn78qLzISxxd",
        "outputId": "46f43726-d507-4117-ad1e-43aad4ab6877"
      },
      "execution_count": 43,
      "outputs": [
        {
          "output_type": "stream",
          "name": "stdout",
          "text": [
            "Decoded message:  \n"
          ]
        }
      ]
    },
    {
      "cell_type": "markdown",
      "source": [
        "44. Find the most frequent word in a string.\n"
      ],
      "metadata": {
        "id": "dFoZSmvJNThh"
      }
    },
    {
      "cell_type": "code",
      "source": [
        "text = \"apple banana apple cherry banana apple\"\n",
        "words = text.split()\n",
        "word_counts = {}\n",
        "for word in words:\n",
        "    if word in word_counts:\n",
        "        word_counts[word] += 1\n",
        "    else:\n",
        "        word_counts[word] = 1\n",
        "most_common_word = max(word_counts, key=word_counts.get)\n",
        "print(\"Most frequent word:\", most_common_word)\n"
      ],
      "metadata": {
        "colab": {
          "base_uri": "https://localhost:8080/"
        },
        "id": "Lmm5MQ60Q8Wq",
        "outputId": "2fee83a3-8ca9-4994-a06d-76e2c7e52ba5"
      },
      "execution_count": 44,
      "outputs": [
        {
          "output_type": "stream",
          "name": "stdout",
          "text": [
            "Most frequent word: apple\n"
          ]
        }
      ]
    },
    {
      "cell_type": "markdown",
      "source": [
        "45. Find all unique words in a string.\n"
      ],
      "metadata": {
        "id": "it9X6xXmNYan"
      }
    },
    {
      "cell_type": "code",
      "source": [
        "url = 'http://127.0.0.1:80000/'\n",
        "words_list = []\n",
        "\n",
        "# Create a list of characters in the URL\n",
        "for character in url:\n",
        "    if character != ' ':\n",
        "        words_list.append(character)\n",
        "\n",
        "print('List with values is:', words_list)\n",
        "\n",
        "new_list = []\n",
        "# Create a list of unique characters\n",
        "for character in words_list:\n",
        "    if character not in new_list:\n",
        "        new_list.append(character)\n",
        "\n",
        "print('List with unique values is:', new_list)"
      ],
      "metadata": {
        "colab": {
          "base_uri": "https://localhost:8080/"
        },
        "id": "nw-LIgMBSWNk",
        "outputId": "457f2832-4da5-4e64-fd12-2d01060c1333"
      },
      "execution_count": 45,
      "outputs": [
        {
          "output_type": "stream",
          "name": "stdout",
          "text": [
            "List with values is: ['h', 't', 't', 'p', ':', '/', '/', '1', '2', '7', '.', '0', '.', '0', '.', '1', ':', '8', '0', '0', '0', '0', '/']\n",
            "List with unique values is: ['h', 't', 'p', ':', '/', '1', '2', '7', '.', '0', '8']\n"
          ]
        }
      ]
    },
    {
      "cell_type": "markdown",
      "source": [
        "46. Count the number of syllables in a string."
      ],
      "metadata": {
        "id": "QT4Fi_vaNc34"
      }
    },
    {
      "cell_type": "code",
      "source": [
        "text = \"Hello world\"\n",
        "syllable_count = 0\n",
        "\n",
        "for word in text.split():\n",
        "    for char in word.lower():\n",
        "        if char in \"aeiou\":\n",
        "            syllable_count += 1\n",
        "\n",
        "print(\"Syllable count:\", syllable_count)\n"
      ],
      "metadata": {
        "colab": {
          "base_uri": "https://localhost:8080/"
        },
        "id": "YP4TilBjTOK_",
        "outputId": "3d05ef0d-167d-4793-e29c-337c4ef36e3c"
      },
      "execution_count": 46,
      "outputs": [
        {
          "output_type": "stream",
          "name": "stdout",
          "text": [
            "Syllable count: 3\n"
          ]
        }
      ]
    },
    {
      "cell_type": "markdown",
      "source": [
        "47. Check if a string contains any special characters.\n"
      ],
      "metadata": {
        "id": "QjkESZQiNg9W"
      }
    },
    {
      "cell_type": "code",
      "source": [
        "text = \"Hello, world!\"\n",
        "has_special_characters = False\n",
        "\n",
        "for char in text:\n",
        "    if char in '''!()-[]{};:'\"\\,<>./?@#$%^&*_~''':\n",
        "        has_special_characters = True\n",
        "        break\n",
        "\n",
        "if has_special_characters:\n",
        "    print(\"The text has special characters.\")\n",
        "else:\n",
        "    print(\"The text doesn't have special characters.\")\n"
      ],
      "metadata": {
        "colab": {
          "base_uri": "https://localhost:8080/"
        },
        "id": "Xu29D9NYTVMv",
        "outputId": "dcf460da-987b-4fe2-9889-bc8f456382fe"
      },
      "execution_count": 47,
      "outputs": [
        {
          "output_type": "stream",
          "name": "stdout",
          "text": [
            "The text has special characters.\n"
          ]
        }
      ]
    },
    {
      "cell_type": "markdown",
      "source": [
        "48. Remove the nth word from a string.\n"
      ],
      "metadata": {
        "id": "a3JGlKZUNkfG"
      }
    },
    {
      "cell_type": "code",
      "source": [
        "text = \"This is a sample sentence.\"\n",
        "n = 3\n",
        "words = text.split()\n",
        "\n",
        "if 1 <= n <= len(words):\n",
        "    del words[n - 1]\n",
        "\n",
        "new_text = \" \".join(words)\n",
        "print(\"New text:\", new_text)\n"
      ],
      "metadata": {
        "colab": {
          "base_uri": "https://localhost:8080/"
        },
        "id": "R8NNFH7VTpke",
        "outputId": "3ee6b960-b199-4d98-9162-c13e4f444d33"
      },
      "execution_count": 48,
      "outputs": [
        {
          "output_type": "stream",
          "name": "stdout",
          "text": [
            "New text: This is sample sentence.\n"
          ]
        }
      ]
    },
    {
      "cell_type": "markdown",
      "source": [
        "49. Insert a word at the nth position in a string.\n"
      ],
      "metadata": {
        "id": "XkPA3AK-Nnsc"
      }
    },
    {
      "cell_type": "code",
      "source": [
        "text = \"This is a sentence.\"\n",
        "word_to_insert = \"sample\"\n",
        "n = 2\n",
        "words = text.split()\n",
        "\n",
        "if 0 <= n <= len(words):\n",
        "    words.insert(n, word_to_insert)\n",
        "\n",
        "new_text = \" \".join(words)\n",
        "print(\"New text:\", new_text)\n"
      ],
      "metadata": {
        "colab": {
          "base_uri": "https://localhost:8080/"
        },
        "id": "ks1tne6XTy3T",
        "outputId": "18b545a1-343c-4d28-fd4d-860a28f4fe54"
      },
      "execution_count": 49,
      "outputs": [
        {
          "output_type": "stream",
          "name": "stdout",
          "text": [
            "New text: This is sample a sentence.\n"
          ]
        }
      ]
    },
    {
      "cell_type": "markdown",
      "source": [
        "50. Convert a CSV string to a list of lists.\n"
      ],
      "metadata": {
        "id": "BSydr0y6Nou1"
      }
    },
    {
      "cell_type": "code",
      "source": [
        "csv_string = \"1,John,Smith\\n2,Jane,Doe\\n3,Bob,Johnson\"\n",
        "csv_lines = csv_string.split(\"\\n\")\n",
        "csv_list = []\n",
        "\n",
        "for line in csv_lines:\n",
        "    csv_list.append(line.split(\",\"))\n",
        "\n",
        "print(\"CSV List:\", csv_list)\n"
      ],
      "metadata": {
        "colab": {
          "base_uri": "https://localhost:8080/"
        },
        "id": "a_nUOt3OL-WW",
        "outputId": "ef2887e7-3f1f-40ea-e27b-e8d3b41f9182"
      },
      "execution_count": 50,
      "outputs": [
        {
          "output_type": "stream",
          "name": "stdout",
          "text": [
            "CSV List: [['1', 'John', 'Smith'], ['2', 'Jane', 'Doe'], ['3', 'Bob', 'Johnson']]\n"
          ]
        }
      ]
    },
    {
      "cell_type": "markdown",
      "source": [
        "# **List Based Practice Problem :**"
      ],
      "metadata": {
        "id": "SRyXf16OARN_"
      }
    },
    {
      "cell_type": "markdown",
      "source": [
        "1. Create a list with integers from 1 to 10.\n"
      ],
      "metadata": {
        "id": "C_njGHocBILP"
      }
    },
    {
      "cell_type": "code",
      "source": [
        "number = [i for i in range(1, 11)]\n",
        "print(number)\n"
      ],
      "metadata": {
        "colab": {
          "base_uri": "https://localhost:8080/"
        },
        "id": "OyKLCnexB0r1",
        "outputId": "908a86d9-5d5a-42a5-a347-e603eadd9c70"
      },
      "execution_count": 51,
      "outputs": [
        {
          "output_type": "stream",
          "name": "stdout",
          "text": [
            "[1, 2, 3, 4, 5, 6, 7, 8, 9, 10]\n"
          ]
        }
      ]
    },
    {
      "cell_type": "code",
      "source": [
        "number[-1]"
      ],
      "metadata": {
        "colab": {
          "base_uri": "https://localhost:8080/"
        },
        "id": "mUIiuM2OH1K1",
        "outputId": "4bcd4700-71a6-4f60-966f-8df2a917b32c"
      },
      "execution_count": 52,
      "outputs": [
        {
          "output_type": "execute_result",
          "data": {
            "text/plain": [
              "10"
            ]
          },
          "metadata": {},
          "execution_count": 52
        }
      ]
    },
    {
      "cell_type": "markdown",
      "source": [
        "2. Find the length of a list without using the `len()` function.\n"
      ],
      "metadata": {
        "id": "vidqBE0CBLnq"
      }
    },
    {
      "cell_type": "code",
      "source": [
        "count = 0\n",
        "for i in number :\n",
        "  count +=1\n",
        "count"
      ],
      "metadata": {
        "colab": {
          "base_uri": "https://localhost:8080/"
        },
        "id": "lgiJW67fHNTv",
        "outputId": "c16427fa-e35c-4d5c-daf2-7d0e2b4beb97"
      },
      "execution_count": 53,
      "outputs": [
        {
          "output_type": "execute_result",
          "data": {
            "text/plain": [
              "10"
            ]
          },
          "metadata": {},
          "execution_count": 53
        }
      ]
    },
    {
      "cell_type": "markdown",
      "source": [
        "3. Append an element to the end of a list.\n"
      ],
      "metadata": {
        "id": "d-pKGOhQBPdX"
      }
    },
    {
      "cell_type": "code",
      "source": [
        "number.append(11)\n",
        "number"
      ],
      "metadata": {
        "colab": {
          "base_uri": "https://localhost:8080/"
        },
        "id": "a8Q4dhsMHYhl",
        "outputId": "827fb1fe-d4ad-4327-da4b-f762e2bcc71a"
      },
      "execution_count": 54,
      "outputs": [
        {
          "output_type": "execute_result",
          "data": {
            "text/plain": [
              "[1, 2, 3, 4, 5, 6, 7, 8, 9, 10, 11]"
            ]
          },
          "metadata": {},
          "execution_count": 54
        }
      ]
    },
    {
      "cell_type": "markdown",
      "source": [
        "4. Insert an element at a specific index in a list.\n"
      ],
      "metadata": {
        "id": "VDOBhzfVBWIT"
      }
    },
    {
      "cell_type": "code",
      "source": [
        "number.insert(0,0)"
      ],
      "metadata": {
        "id": "8xfLQn0GINuK"
      },
      "execution_count": 55,
      "outputs": []
    },
    {
      "cell_type": "code",
      "source": [
        "number"
      ],
      "metadata": {
        "colab": {
          "base_uri": "https://localhost:8080/"
        },
        "id": "7MftN212IS2s",
        "outputId": "f0337627-6c7a-4a25-fd09-3ef238917534"
      },
      "execution_count": 56,
      "outputs": [
        {
          "output_type": "execute_result",
          "data": {
            "text/plain": [
              "[0, 1, 2, 3, 4, 5, 6, 7, 8, 9, 10, 11]"
            ]
          },
          "metadata": {},
          "execution_count": 56
        }
      ]
    },
    {
      "cell_type": "markdown",
      "source": [
        "5. Remove an element from a list by its value.\n"
      ],
      "metadata": {
        "id": "VjVY7SJyBaKQ"
      }
    },
    {
      "cell_type": "code",
      "source": [
        "number.remove(0)\n",
        "number"
      ],
      "metadata": {
        "colab": {
          "base_uri": "https://localhost:8080/"
        },
        "id": "ysWcWo3PIged",
        "outputId": "1d437469-ea42-4789-c627-b5337d4102b1"
      },
      "execution_count": 57,
      "outputs": [
        {
          "output_type": "execute_result",
          "data": {
            "text/plain": [
              "[1, 2, 3, 4, 5, 6, 7, 8, 9, 10, 11]"
            ]
          },
          "metadata": {},
          "execution_count": 57
        }
      ]
    },
    {
      "cell_type": "markdown",
      "source": [
        "6. Remove an element from a list by its index.\n"
      ],
      "metadata": {
        "id": "T9AfbiRFBer6"
      }
    },
    {
      "cell_type": "code",
      "source": [
        "number.pop(-1)"
      ],
      "metadata": {
        "colab": {
          "base_uri": "https://localhost:8080/"
        },
        "id": "w--HfC1RIm2N",
        "outputId": "952c88f0-bac7-42be-cd0f-b0bbfe281e7e"
      },
      "execution_count": 58,
      "outputs": [
        {
          "output_type": "execute_result",
          "data": {
            "text/plain": [
              "11"
            ]
          },
          "metadata": {},
          "execution_count": 58
        }
      ]
    },
    {
      "cell_type": "code",
      "source": [
        "number"
      ],
      "metadata": {
        "colab": {
          "base_uri": "https://localhost:8080/"
        },
        "id": "Vt8RmKOHI4sS",
        "outputId": "4ef1b1c3-a091-4847-f80d-687c83dd3ac5"
      },
      "execution_count": 59,
      "outputs": [
        {
          "output_type": "execute_result",
          "data": {
            "text/plain": [
              "[1, 2, 3, 4, 5, 6, 7, 8, 9, 10]"
            ]
          },
          "metadata": {},
          "execution_count": 59
        }
      ]
    },
    {
      "cell_type": "markdown",
      "source": [
        "7. Check if an element exists in a list.\n"
      ],
      "metadata": {
        "id": "7FaKzzXzBfjE"
      }
    },
    {
      "cell_type": "code",
      "source": [
        "print('exsists in list') if int(11) in number else print('Does not exsits in list')"
      ],
      "metadata": {
        "colab": {
          "base_uri": "https://localhost:8080/"
        },
        "id": "h6Bzvfv3I74Y",
        "outputId": "0e9ce1fe-9381-4c2d-948b-effd309971e8"
      },
      "execution_count": 60,
      "outputs": [
        {
          "output_type": "stream",
          "name": "stdout",
          "text": [
            "Does not exsits in list\n"
          ]
        }
      ]
    },
    {
      "cell_type": "markdown",
      "source": [
        "8. Find the index of the first occurrence of an element in a list.\n"
      ],
      "metadata": {
        "id": "4NC839PlBiuG"
      }
    },
    {
      "cell_type": "code",
      "source": [
        "number = [0,1,5,8,0,5,2,3]\n",
        "index = 0\n",
        "a = 5\n",
        "for i in number:\n",
        "  if i == a:\n",
        "    index = number.index(i)\n",
        "print('Index is : ' ,index)"
      ],
      "metadata": {
        "colab": {
          "base_uri": "https://localhost:8080/"
        },
        "id": "_EJRg5hWKRjI",
        "outputId": "909f8216-3cd8-43fa-b828-046653ddee8b"
      },
      "execution_count": 61,
      "outputs": [
        {
          "output_type": "stream",
          "name": "stdout",
          "text": [
            "Index is :  2\n"
          ]
        }
      ]
    },
    {
      "cell_type": "markdown",
      "source": [
        "9. Count the occurrences of an element in a list.\n"
      ],
      "metadata": {
        "id": "dsAmVJoeBpXI"
      }
    },
    {
      "cell_type": "code",
      "source": [
        "number = [0,1,5,8,0,5,2,5,3]\n",
        "count = 0\n",
        "a = 5\n",
        "for i in number:\n",
        "  if i == a:\n",
        "    count +=1\n",
        "print('Count is : ' ,count)"
      ],
      "metadata": {
        "colab": {
          "base_uri": "https://localhost:8080/"
        },
        "id": "Gx4JBbOjLXVe",
        "outputId": "c468a1af-dd2b-4cc4-e583-92661dcc9494"
      },
      "execution_count": 62,
      "outputs": [
        {
          "output_type": "stream",
          "name": "stdout",
          "text": [
            "Count is :  3\n"
          ]
        }
      ]
    },
    {
      "cell_type": "markdown",
      "source": [
        "10. Reverse the order of elements in a list."
      ],
      "metadata": {
        "id": "dnj29PzQBtQN"
      }
    },
    {
      "cell_type": "code",
      "source": [
        "number = number[::-1]\n",
        "number"
      ],
      "metadata": {
        "colab": {
          "base_uri": "https://localhost:8080/"
        },
        "id": "fR-rxQ2WLq1m",
        "outputId": "4c1de6ae-3979-4ec1-f726-c1037030b25c"
      },
      "execution_count": 63,
      "outputs": [
        {
          "output_type": "execute_result",
          "data": {
            "text/plain": [
              "[3, 5, 2, 5, 0, 8, 5, 1, 0]"
            ]
          },
          "metadata": {},
          "execution_count": 63
        }
      ]
    },
    {
      "cell_type": "markdown",
      "source": [
        "11. Sort a list in ascending order.\n"
      ],
      "metadata": {
        "id": "7RuWMQf_MWRp"
      }
    },
    {
      "cell_type": "code",
      "source": [
        "sorted(number)"
      ],
      "metadata": {
        "colab": {
          "base_uri": "https://localhost:8080/"
        },
        "id": "zxSjBVRINLR7",
        "outputId": "1f4f5c89-a2c2-43c6-f904-a1442177e3b5"
      },
      "execution_count": 64,
      "outputs": [
        {
          "output_type": "execute_result",
          "data": {
            "text/plain": [
              "[0, 0, 1, 2, 3, 5, 5, 5, 8]"
            ]
          },
          "metadata": {},
          "execution_count": 64
        }
      ]
    },
    {
      "cell_type": "markdown",
      "source": [
        "12. Sort a list in descending order.\n"
      ],
      "metadata": {
        "id": "qVOEJ0QQMcHO"
      }
    },
    {
      "cell_type": "code",
      "source": [
        "sorted(number,reverse = True)"
      ],
      "metadata": {
        "colab": {
          "base_uri": "https://localhost:8080/"
        },
        "id": "xgeRRu1BNRlc",
        "outputId": "370e0927-e820-4715-a429-db1913b29f89"
      },
      "execution_count": 65,
      "outputs": [
        {
          "output_type": "execute_result",
          "data": {
            "text/plain": [
              "[8, 5, 5, 5, 3, 2, 1, 0, 0]"
            ]
          },
          "metadata": {},
          "execution_count": 65
        }
      ]
    },
    {
      "cell_type": "markdown",
      "source": [
        "13. Create a list of even numbers from 1 to 20.\n"
      ],
      "metadata": {
        "id": "I9AOqKunMgrk"
      }
    },
    {
      "cell_type": "code",
      "source": [
        "number = [i for i in range(1,21) if i % 2 == 0]"
      ],
      "metadata": {
        "id": "6Bfm03VjNcaO"
      },
      "execution_count": 66,
      "outputs": []
    },
    {
      "cell_type": "code",
      "source": [
        "number"
      ],
      "metadata": {
        "colab": {
          "base_uri": "https://localhost:8080/"
        },
        "id": "9pLYtaVMOCpk",
        "outputId": "d2116cb6-79de-47d6-d71b-185ff5ea1e4f"
      },
      "execution_count": 67,
      "outputs": [
        {
          "output_type": "execute_result",
          "data": {
            "text/plain": [
              "[2, 4, 6, 8, 10, 12, 14, 16, 18, 20]"
            ]
          },
          "metadata": {},
          "execution_count": 67
        }
      ]
    },
    {
      "cell_type": "markdown",
      "source": [
        "14. Create a list of odd numbers from 1 to 20.\n"
      ],
      "metadata": {
        "id": "QFpSyiONMlRu"
      }
    },
    {
      "cell_type": "code",
      "source": [
        "number = [i for i in range(1,21) if i % 2 != 0]\n",
        "number"
      ],
      "metadata": {
        "colab": {
          "base_uri": "https://localhost:8080/"
        },
        "id": "3Cpw0kvcOYxe",
        "outputId": "f066c4b3-2ee9-409a-b017-1d227380fb8b"
      },
      "execution_count": 68,
      "outputs": [
        {
          "output_type": "execute_result",
          "data": {
            "text/plain": [
              "[1, 3, 5, 7, 9, 11, 13, 15, 17, 19]"
            ]
          },
          "metadata": {},
          "execution_count": 68
        }
      ]
    },
    {
      "cell_type": "markdown",
      "source": [
        "15. Find the sum of all elements in a list.\n"
      ],
      "metadata": {
        "id": "hSasZxWhMqeL"
      }
    },
    {
      "cell_type": "code",
      "source": [
        "sum(number)"
      ],
      "metadata": {
        "colab": {
          "base_uri": "https://localhost:8080/"
        },
        "id": "XaCPQTOcOh2Q",
        "outputId": "96682bac-ce39-4911-805c-6e25dc13d9fe"
      },
      "execution_count": 69,
      "outputs": [
        {
          "output_type": "execute_result",
          "data": {
            "text/plain": [
              "100"
            ]
          },
          "metadata": {},
          "execution_count": 69
        }
      ]
    },
    {
      "cell_type": "markdown",
      "source": [
        "16. Find the maximum value in a list.\n"
      ],
      "metadata": {
        "id": "bW3rPrFWMxmR"
      }
    },
    {
      "cell_type": "code",
      "source": [
        "max(number)"
      ],
      "metadata": {
        "colab": {
          "base_uri": "https://localhost:8080/"
        },
        "id": "rXGPv812OkkN",
        "outputId": "fa604ffb-ab92-4238-8962-6514bb834107"
      },
      "execution_count": 70,
      "outputs": [
        {
          "output_type": "execute_result",
          "data": {
            "text/plain": [
              "19"
            ]
          },
          "metadata": {},
          "execution_count": 70
        }
      ]
    },
    {
      "cell_type": "markdown",
      "source": [
        "17. Find the minimum value in a list.\n"
      ],
      "metadata": {
        "id": "y6KTdOI6M0if"
      }
    },
    {
      "cell_type": "code",
      "source": [
        "min(number)"
      ],
      "metadata": {
        "colab": {
          "base_uri": "https://localhost:8080/"
        },
        "id": "yfN_9MJEOps-",
        "outputId": "703f8b97-d7d4-4c96-e7cf-62a0c0daaf2a"
      },
      "execution_count": 71,
      "outputs": [
        {
          "output_type": "execute_result",
          "data": {
            "text/plain": [
              "1"
            ]
          },
          "metadata": {},
          "execution_count": 71
        }
      ]
    },
    {
      "cell_type": "markdown",
      "source": [
        "18. Create a list of squares of numbers from 1 to 10.\n"
      ],
      "metadata": {
        "id": "vMBJ-CfnM6Dr"
      }
    },
    {
      "cell_type": "code",
      "source": [
        "square = [i*i for i in range(1,10)]\n",
        "square"
      ],
      "metadata": {
        "colab": {
          "base_uri": "https://localhost:8080/"
        },
        "id": "2feoxJumOtY2",
        "outputId": "913440e2-64fd-49dd-b25b-2c8c30d36de4"
      },
      "execution_count": 72,
      "outputs": [
        {
          "output_type": "execute_result",
          "data": {
            "text/plain": [
              "[1, 4, 9, 16, 25, 36, 49, 64, 81]"
            ]
          },
          "metadata": {},
          "execution_count": 72
        }
      ]
    },
    {
      "cell_type": "markdown",
      "source": [
        "19. Create a list of random numbers.\n"
      ],
      "metadata": {
        "id": "pn7wO2NGM87O"
      }
    },
    {
      "cell_type": "code",
      "source": [
        "import random as rd\n",
        "numbers = [rd.randint(1, 100) for _ in range(10)]\n",
        "numbers"
      ],
      "metadata": {
        "colab": {
          "base_uri": "https://localhost:8080/"
        },
        "id": "1d4Ipg3KPC30",
        "outputId": "f9d44fa7-346a-4452-eb26-889ca21be438"
      },
      "execution_count": 73,
      "outputs": [
        {
          "output_type": "execute_result",
          "data": {
            "text/plain": [
              "[89, 82, 98, 34, 50, 57, 90, 81, 18, 70]"
            ]
          },
          "metadata": {},
          "execution_count": 73
        }
      ]
    },
    {
      "cell_type": "code",
      "source": [
        "number"
      ],
      "metadata": {
        "colab": {
          "base_uri": "https://localhost:8080/"
        },
        "id": "xcY4ElbsPVLY",
        "outputId": "f4a1fbb4-cedf-4f6f-9553-a14b876699aa"
      },
      "execution_count": 74,
      "outputs": [
        {
          "output_type": "execute_result",
          "data": {
            "text/plain": [
              "[1, 3, 5, 7, 9, 11, 13, 15, 17, 19]"
            ]
          },
          "metadata": {},
          "execution_count": 74
        }
      ]
    },
    {
      "cell_type": "markdown",
      "source": [
        "20. Remove duplicates from a list.\n"
      ],
      "metadata": {
        "id": "d-lNKn2LNEHS"
      }
    },
    {
      "cell_type": "code",
      "source": [
        "number = [0,1,5,8,0,5,2,5,3]\n",
        "new_list=[]\n",
        "[new_list.append(i)for i in number if i not in new_list]\n",
        "new_list"
      ],
      "metadata": {
        "colab": {
          "base_uri": "https://localhost:8080/"
        },
        "id": "BlffKVSTQwOy",
        "outputId": "613ab0dc-1595-4ad5-b206-2553191fb640"
      },
      "execution_count": 75,
      "outputs": [
        {
          "output_type": "execute_result",
          "data": {
            "text/plain": [
              "[0, 1, 5, 8, 2, 3]"
            ]
          },
          "metadata": {},
          "execution_count": 75
        }
      ]
    },
    {
      "cell_type": "markdown",
      "source": [
        "21. Find the common elements between two lists.\n"
      ],
      "metadata": {
        "id": "fTOOa4XwSHx4"
      }
    },
    {
      "cell_type": "code",
      "source": [
        "num1 = [0, 2, 5, 3, 9]\n",
        "num2 = [1, 3, 5]\n",
        "a = [i for i in num1 if i in num2]\n",
        "a"
      ],
      "metadata": {
        "colab": {
          "base_uri": "https://localhost:8080/"
        },
        "id": "aKmHU_MQuORW",
        "outputId": "afb907b1-343c-4959-e015-76ec87a0bdee"
      },
      "execution_count": 76,
      "outputs": [
        {
          "output_type": "execute_result",
          "data": {
            "text/plain": [
              "[5, 3]"
            ]
          },
          "metadata": {},
          "execution_count": 76
        }
      ]
    },
    {
      "cell_type": "markdown",
      "source": [
        "22. Find the difference between two lists.\n"
      ],
      "metadata": {
        "id": "prXbK_DTSI2P"
      }
    },
    {
      "cell_type": "code",
      "source": [
        "b = [i for i in num1 if i not in num2]\n",
        "b"
      ],
      "metadata": {
        "colab": {
          "base_uri": "https://localhost:8080/"
        },
        "id": "M9ZOhGKfumOu",
        "outputId": "45faa74c-c897-48fb-ea4f-648f31e15bde"
      },
      "execution_count": 77,
      "outputs": [
        {
          "output_type": "execute_result",
          "data": {
            "text/plain": [
              "[0, 2, 9]"
            ]
          },
          "metadata": {},
          "execution_count": 77
        }
      ]
    },
    {
      "cell_type": "markdown",
      "source": [
        "23. Merge two lists.\n"
      ],
      "metadata": {
        "id": "nMW5X9QIWRm0"
      }
    },
    {
      "cell_type": "code",
      "source": [
        "c = a+ b\n",
        "c"
      ],
      "metadata": {
        "colab": {
          "base_uri": "https://localhost:8080/"
        },
        "id": "MXDzOMGYvpdY",
        "outputId": "68f902e4-0f49-4759-a04b-9bf39f1cce93"
      },
      "execution_count": 78,
      "outputs": [
        {
          "output_type": "execute_result",
          "data": {
            "text/plain": [
              "[5, 3, 0, 2, 9]"
            ]
          },
          "metadata": {},
          "execution_count": 78
        }
      ]
    },
    {
      "cell_type": "markdown",
      "source": [
        "24. Multiply all elements in a list by 2.\n"
      ],
      "metadata": {
        "id": "JLt_bpiSWVXJ"
      }
    },
    {
      "cell_type": "code",
      "source": [
        "d = [i*2 for i in c]\n",
        "d"
      ],
      "metadata": {
        "colab": {
          "base_uri": "https://localhost:8080/"
        },
        "id": "NRgj1R6uvvsu",
        "outputId": "f43b395f-f162-4f91-a79e-4740830da677"
      },
      "execution_count": 79,
      "outputs": [
        {
          "output_type": "execute_result",
          "data": {
            "text/plain": [
              "[10, 6, 0, 4, 18]"
            ]
          },
          "metadata": {},
          "execution_count": 79
        }
      ]
    },
    {
      "cell_type": "markdown",
      "source": [
        "25. Filter out all even numbers from a list."
      ],
      "metadata": {
        "id": "bXvhKN5UWX8r"
      }
    },
    {
      "cell_type": "code",
      "source": [
        "e = [i for i in c if i%2 == 0]\n",
        "e"
      ],
      "metadata": {
        "colab": {
          "base_uri": "https://localhost:8080/"
        },
        "id": "phCnqru0v467",
        "outputId": "cbc4bd13-d29a-4780-8d4c-67fab01b69c6"
      },
      "execution_count": 80,
      "outputs": [
        {
          "output_type": "execute_result",
          "data": {
            "text/plain": [
              "[0, 2]"
            ]
          },
          "metadata": {},
          "execution_count": 80
        }
      ]
    },
    {
      "cell_type": "markdown",
      "source": [
        "26. Convert a list of strings to a list of integers.\n"
      ],
      "metadata": {
        "id": "rR-kvi1bWdr5"
      }
    },
    {
      "cell_type": "code",
      "source": [
        "f = ['1', '2', '3', 4]\n",
        "g = list(map(lambda x: int(x), f))\n",
        "g"
      ],
      "metadata": {
        "colab": {
          "base_uri": "https://localhost:8080/"
        },
        "id": "vmNoS8KOwI4q",
        "outputId": "120f975e-45bc-441d-f24f-1a1e67b4771a"
      },
      "execution_count": 81,
      "outputs": [
        {
          "output_type": "execute_result",
          "data": {
            "text/plain": [
              "[1, 2, 3, 4]"
            ]
          },
          "metadata": {},
          "execution_count": 81
        }
      ]
    },
    {
      "cell_type": "markdown",
      "source": [
        "27. Convert a list of integers to a list of strings.\n"
      ],
      "metadata": {
        "id": "9MzVTSV2We3E"
      }
    },
    {
      "cell_type": "code",
      "source": [
        "h = list(map(lambda x: str(x), g))\n",
        "h"
      ],
      "metadata": {
        "colab": {
          "base_uri": "https://localhost:8080/"
        },
        "id": "1emga6pEwvXo",
        "outputId": "7a5598bf-2ec1-4835-d46c-6c10932bc8d3"
      },
      "execution_count": 82,
      "outputs": [
        {
          "output_type": "execute_result",
          "data": {
            "text/plain": [
              "['1', '2', '3', '4']"
            ]
          },
          "metadata": {},
          "execution_count": 82
        }
      ]
    },
    {
      "cell_type": "markdown",
      "source": [
        "28. Flatten a nested list.\n"
      ],
      "metadata": {
        "id": "GqBEwTGdWjXk"
      }
    },
    {
      "cell_type": "code",
      "source": [
        "i = [[1,2,3],[4,'om','hi']]\n",
        "j = []\n",
        "for x in i:\n",
        "  for y in x:\n",
        "    j.append(y)\n",
        "j"
      ],
      "metadata": {
        "colab": {
          "base_uri": "https://localhost:8080/"
        },
        "id": "5UrL1Sexw2h_",
        "outputId": "31e58615-6620-48aa-be1b-fd40f7607977"
      },
      "execution_count": 83,
      "outputs": [
        {
          "output_type": "execute_result",
          "data": {
            "text/plain": [
              "[1, 2, 3, 4, 'om', 'hi']"
            ]
          },
          "metadata": {},
          "execution_count": 83
        }
      ]
    },
    {
      "cell_type": "markdown",
      "source": [
        "29. Create a list of the first 10 Fibonacci numbers.\n"
      ],
      "metadata": {
        "id": "xH5mziubWmVW"
      }
    },
    {
      "cell_type": "code",
      "source": [
        "k = []\n",
        "[k.append(i) if i == 0 or i == 1 else k.append(k[-1] + k[-2]) for i in range(10)]\n",
        "k"
      ],
      "metadata": {
        "colab": {
          "base_uri": "https://localhost:8080/"
        },
        "id": "iYqt-shhxeT_",
        "outputId": "53ced936-ee3e-4b03-da34-c44c7f89a3a3"
      },
      "execution_count": 84,
      "outputs": [
        {
          "output_type": "execute_result",
          "data": {
            "text/plain": [
              "[0, 1, 1, 2, 3, 5, 8, 13, 21, 34]"
            ]
          },
          "metadata": {},
          "execution_count": 84
        }
      ]
    },
    {
      "cell_type": "markdown",
      "source": [
        "30. Check if a list is sorted.\n"
      ],
      "metadata": {
        "id": "ieDBgMQOWo9o"
      }
    },
    {
      "cell_type": "code",
      "source": [
        "print('Sorted') if k == sorted(k) else print('Not Sorted')"
      ],
      "metadata": {
        "colab": {
          "base_uri": "https://localhost:8080/"
        },
        "id": "0dwAiSqY2iJL",
        "outputId": "1074ed4f-8924-4da1-d518-b5ef1f66eecf"
      },
      "execution_count": 85,
      "outputs": [
        {
          "output_type": "stream",
          "name": "stdout",
          "text": [
            "Sorted\n"
          ]
        }
      ]
    },
    {
      "cell_type": "markdown",
      "source": [
        "31. Rotate a list to the left by `n` positions.\n"
      ],
      "metadata": {
        "id": "wDdovt52WuyK"
      }
    },
    {
      "cell_type": "code",
      "source": [
        "original_list = [1, 2, 3, 4, 5]\n",
        "n = 2  # Number of positions to rotate left\n",
        "\n",
        "rotated_list = original_list[n:] + original_list[:n]\n",
        "print(rotated_list)\n"
      ],
      "metadata": {
        "colab": {
          "base_uri": "https://localhost:8080/"
        },
        "id": "4IUVjQ2POhB5",
        "outputId": "433dccfb-8d76-4749-83c1-da4a39542e32"
      },
      "execution_count": 86,
      "outputs": [
        {
          "output_type": "stream",
          "name": "stdout",
          "text": [
            "[3, 4, 5, 1, 2]\n"
          ]
        }
      ]
    },
    {
      "cell_type": "markdown",
      "source": [
        "32. Rotate a list to the right by `n` positions.\n"
      ],
      "metadata": {
        "id": "ZRwWj3tpWzvC"
      }
    },
    {
      "cell_type": "code",
      "source": [
        "original_list = [1, 2, 3, 4, 5]\n",
        "n = 2  # Number of positions to right shift\n",
        "\n",
        "right_shifted_list = original_list[-n:] + original_list[:-n]\n",
        "print(right_shifted_list)\n"
      ],
      "metadata": {
        "colab": {
          "base_uri": "https://localhost:8080/"
        },
        "id": "O8hjO7SlPmce",
        "outputId": "9079f20a-088b-4ef0-e1ed-254636b8b3d6"
      },
      "execution_count": 87,
      "outputs": [
        {
          "output_type": "stream",
          "name": "stdout",
          "text": [
            "[4, 5, 1, 2, 3]\n"
          ]
        }
      ]
    },
    {
      "cell_type": "markdown",
      "source": [
        "33. Create a list of prime numbers up to 50.\n"
      ],
      "metadata": {
        "id": "zFpGz9grXCOd"
      }
    },
    {
      "cell_type": "code",
      "source": [
        "prime_numbers = []\n",
        "for num in range(2, 51):\n",
        "    is_prime = True\n",
        "    for i in range(2, int(num ** 0.5) + 1):\n",
        "        if num % i == 0:\n",
        "            is_prime = False\n",
        "            break\n",
        "    if is_prime:\n",
        "        prime_numbers.append(num)\n",
        "\n",
        "print(prime_numbers)\n"
      ],
      "metadata": {
        "colab": {
          "base_uri": "https://localhost:8080/"
        },
        "id": "94WN989_QMoB",
        "outputId": "96523bee-b0b1-4c58-8c36-283a07261a48"
      },
      "execution_count": 88,
      "outputs": [
        {
          "output_type": "stream",
          "name": "stdout",
          "text": [
            "[2, 3, 5, 7, 11, 13, 17, 19, 23, 29, 31, 37, 41, 43, 47]\n"
          ]
        }
      ]
    },
    {
      "cell_type": "markdown",
      "source": [
        "34. Split a list into chunks of size `n`.\n"
      ],
      "metadata": {
        "id": "0CBc2fRsXWsR"
      }
    },
    {
      "cell_type": "code",
      "source": [
        "original_list = [1, 2, 3, 4, 5, 6, 7, 8, 9, 10]\n",
        "n = 3\n",
        "chunked_list = [original_list[i:i + n] for i in range(0, len(original_list), n)]\n",
        "print(chunked_list)\n"
      ],
      "metadata": {
        "colab": {
          "base_uri": "https://localhost:8080/"
        },
        "id": "-N8uPlBUSs1C",
        "outputId": "82b12670-e3cc-43a6-8d38-1718f552e334"
      },
      "execution_count": 89,
      "outputs": [
        {
          "output_type": "stream",
          "name": "stdout",
          "text": [
            "[[1, 2, 3], [4, 5, 6], [7, 8, 9], [10]]\n"
          ]
        }
      ]
    },
    {
      "cell_type": "markdown",
      "source": [
        "35. Find the second largest number in a list.\n"
      ],
      "metadata": {
        "id": "yU2584t7XYbY"
      }
    },
    {
      "cell_type": "code",
      "source": [
        "numbers = [15, 30, 10, 45, 20, 5]\n",
        "sorted_numbers = sorted(numbers)\n",
        "second_largest = sorted_numbers[-2]\n",
        "print(second_largest)\n"
      ],
      "metadata": {
        "colab": {
          "base_uri": "https://localhost:8080/"
        },
        "id": "mNG-cy0ASu8o",
        "outputId": "ef94b893-9fa0-407a-b4c2-774d65df4f00"
      },
      "execution_count": 90,
      "outputs": [
        {
          "output_type": "stream",
          "name": "stdout",
          "text": [
            "30\n"
          ]
        }
      ]
    },
    {
      "cell_type": "markdown",
      "source": [
        "36. Replace every element in a list with its square.\n"
      ],
      "metadata": {
        "id": "li1GbnbRXdIH"
      }
    },
    {
      "cell_type": "code",
      "source": [
        "numbers = [1, 2, 3, 4, 5]\n",
        "squared_numbers = [num ** 2 for num in numbers]\n",
        "print(squared_numbers)\n"
      ],
      "metadata": {
        "colab": {
          "base_uri": "https://localhost:8080/"
        },
        "id": "GmuEKLezTErV",
        "outputId": "15f0da38-dd05-4dbd-e48d-e01669f58bed"
      },
      "execution_count": 91,
      "outputs": [
        {
          "output_type": "stream",
          "name": "stdout",
          "text": [
            "[1, 4, 9, 16, 25]\n"
          ]
        }
      ]
    },
    {
      "cell_type": "markdown",
      "source": [
        "37. Convert a list to a dictionary where list elements become keys and their\n",
        "indices become values.\n"
      ],
      "metadata": {
        "id": "IbbkVjQhXg6K"
      }
    },
    {
      "cell_type": "code",
      "source": [
        "fruits = ['apple', 'banana', 'orange', 'grape']\n",
        "fruit_dict = {fruit: index for index, fruit in enumerate(fruits)}\n",
        "print(fruit_dict)\n"
      ],
      "metadata": {
        "colab": {
          "base_uri": "https://localhost:8080/"
        },
        "id": "O-hbtEdrS1mi",
        "outputId": "d9186346-de63-4762-cd80-1cac4b44312b"
      },
      "execution_count": 92,
      "outputs": [
        {
          "output_type": "stream",
          "name": "stdout",
          "text": [
            "{'apple': 0, 'banana': 1, 'orange': 2, 'grape': 3}\n"
          ]
        }
      ]
    },
    {
      "cell_type": "markdown",
      "source": [
        "38. Shuffle the elements of a list randomly.\n"
      ],
      "metadata": {
        "id": "G1sllyU1XvoF"
      }
    },
    {
      "cell_type": "code",
      "source": [
        "import random\n",
        "\n",
        "my_list = [1, 2, 3, 4, 5]\n",
        "shuffled_list = my_list.copy()\n",
        "random.shuffle(shuffled_list)\n",
        "print(shuffled_list)\n"
      ],
      "metadata": {
        "colab": {
          "base_uri": "https://localhost:8080/"
        },
        "id": "ha60Vu-STHGb",
        "outputId": "359ff6ba-8985-4f02-de90-daff2c70ff25"
      },
      "execution_count": 93,
      "outputs": [
        {
          "output_type": "stream",
          "name": "stdout",
          "text": [
            "[4, 2, 5, 3, 1]\n"
          ]
        }
      ]
    },
    {
      "cell_type": "markdown",
      "source": [
        "39. Create a list of the first 10 factorial numbers."
      ],
      "metadata": {
        "id": "THAeMwsXXwoA"
      }
    },
    {
      "cell_type": "code",
      "source": [
        "factorial_numbers = [1]\n",
        "for n in range(1, 11):\n",
        "    factorial_numbers.append(factorial_numbers[-1] * n)\n",
        "print(factorial_numbers)\n"
      ],
      "metadata": {
        "colab": {
          "base_uri": "https://localhost:8080/"
        },
        "id": "E9bCftNATMKi",
        "outputId": "22189b51-8a78-41ef-ed47-bb774d40242e"
      },
      "execution_count": 94,
      "outputs": [
        {
          "output_type": "stream",
          "name": "stdout",
          "text": [
            "[1, 1, 2, 6, 24, 120, 720, 5040, 40320, 362880, 3628800]\n"
          ]
        }
      ]
    },
    {
      "cell_type": "markdown",
      "source": [
        "40. Check if two lists have at least one element in common.\n"
      ],
      "metadata": {
        "id": "APdd0a3ZX4TU"
      }
    },
    {
      "cell_type": "code",
      "source": [
        "list1 = [1, 2, 3, 4, 5]\n",
        "list2 = [5, 6, 7, 8, 9]\n",
        "have_common = any(item in list2 for item in list1)\n",
        "print(have_common)\n"
      ],
      "metadata": {
        "colab": {
          "base_uri": "https://localhost:8080/"
        },
        "id": "znbRF-6jXuxE",
        "outputId": "b94dbe28-b83f-461c-ce17-9295d0304b3e"
      },
      "execution_count": 95,
      "outputs": [
        {
          "output_type": "stream",
          "name": "stdout",
          "text": [
            "True\n"
          ]
        }
      ]
    },
    {
      "cell_type": "markdown",
      "source": [
        "41. Remove all elements from a list.\n"
      ],
      "metadata": {
        "id": "DumUd48UDgAI"
      }
    },
    {
      "cell_type": "code",
      "source": [
        "list1.clear()\n",
        "list1"
      ],
      "metadata": {
        "colab": {
          "base_uri": "https://localhost:8080/"
        },
        "id": "xqw2dNjOEbHy",
        "outputId": "e6cdb3bf-202b-41fd-e1cf-2a28800f035e"
      },
      "execution_count": 96,
      "outputs": [
        {
          "output_type": "execute_result",
          "data": {
            "text/plain": [
              "[]"
            ]
          },
          "metadata": {},
          "execution_count": 96
        }
      ]
    },
    {
      "cell_type": "markdown",
      "source": [
        "42. Replace negative numbers in a list with 0.\n"
      ],
      "metadata": {
        "id": "uXjNDMJwDkEP"
      }
    },
    {
      "cell_type": "code",
      "source": [
        "list1 = [-1, 5, 3, -3]\n",
        "list1 = list(map(lambda x: x if x >= 0 else 0, list1))\n"
      ],
      "metadata": {
        "id": "a_wLhR87Enwz"
      },
      "execution_count": 97,
      "outputs": []
    },
    {
      "cell_type": "markdown",
      "source": [
        "43. Convert a string into a list of words.\n"
      ],
      "metadata": {
        "id": "9xctyd5bDnQF"
      }
    },
    {
      "cell_type": "code",
      "source": [
        "ster = 'Ho mandalor'\n",
        "list1 = ster.split()\n",
        "list1"
      ],
      "metadata": {
        "colab": {
          "base_uri": "https://localhost:8080/"
        },
        "id": "7FTFNwFDFwcZ",
        "outputId": "9202925e-22dd-462b-cb72-af88552afb9e"
      },
      "execution_count": 98,
      "outputs": [
        {
          "output_type": "execute_result",
          "data": {
            "text/plain": [
              "['Ho', 'mandalor']"
            ]
          },
          "metadata": {},
          "execution_count": 98
        }
      ]
    },
    {
      "cell_type": "markdown",
      "source": [
        "44. Convert a list of words into a string.\n"
      ],
      "metadata": {
        "id": "I3ao6_2pDqYz"
      }
    },
    {
      "cell_type": "code",
      "source": [
        "word_list = ['apple', 'banana', 'cherry']\n",
        "result_string = ' '.join(word_list)  # Join words with a space separator\n",
        "print(result_string)  # Output: \"apple banana cherry\"\n"
      ],
      "metadata": {
        "colab": {
          "base_uri": "https://localhost:8080/"
        },
        "id": "5ew-09qNGGek",
        "outputId": "ec21d7ba-7542-4794-9908-88d2069c9e7e"
      },
      "execution_count": 99,
      "outputs": [
        {
          "output_type": "stream",
          "name": "stdout",
          "text": [
            "apple banana cherry\n"
          ]
        }
      ]
    },
    {
      "cell_type": "markdown",
      "source": [
        "45. Create a list of the first `n` powers of 2.\n"
      ],
      "metadata": {
        "id": "16aIJiSmDtYZ"
      }
    },
    {
      "cell_type": "code",
      "source": [
        "n = 5\n",
        "powers_of_2 = [2 ** i for i in range(n)]\n",
        "print(powers_of_2)\n"
      ],
      "metadata": {
        "colab": {
          "base_uri": "https://localhost:8080/"
        },
        "id": "22zXuQNvHKkP",
        "outputId": "d4c16e9d-e8e0-4939-d3ac-b141ee8d6238"
      },
      "execution_count": 100,
      "outputs": [
        {
          "output_type": "stream",
          "name": "stdout",
          "text": [
            "[1, 2, 4, 8, 16]\n"
          ]
        }
      ]
    },
    {
      "cell_type": "markdown",
      "source": [
        "46. Find the longest string in a list of strings.\n"
      ],
      "metadata": {
        "id": "0Cxi7yX0DxLu"
      }
    },
    {
      "cell_type": "code",
      "source": [
        "string_list = ['apple', 'banana', 'cherry', 'date', 'elderberry']\n",
        "longest_string = max(string_list, key=len)\n",
        "print(longest_string)\n"
      ],
      "metadata": {
        "colab": {
          "base_uri": "https://localhost:8080/"
        },
        "id": "TrxoJ1lvHO38",
        "outputId": "ad32ec2f-e1de-414d-e9b8-9dd4111fc5cf"
      },
      "execution_count": 101,
      "outputs": [
        {
          "output_type": "stream",
          "name": "stdout",
          "text": [
            "elderberry\n"
          ]
        }
      ]
    },
    {
      "cell_type": "markdown",
      "source": [
        "47. Find the shortest string in a list of strings.\n"
      ],
      "metadata": {
        "id": "toTmaCp3D0VS"
      }
    },
    {
      "cell_type": "code",
      "source": [
        "string_list = ['apple', 'banana', 'cherry', 'date', 'elderberry']\n",
        "shortest_string = min(string_list, key=len)\n",
        "print(shortest_string)"
      ],
      "metadata": {
        "colab": {
          "base_uri": "https://localhost:8080/"
        },
        "id": "cw8Hxb29Hncg",
        "outputId": "eb043fb3-91e0-40cd-e607-2b3a0ecf2a8d"
      },
      "execution_count": 102,
      "outputs": [
        {
          "output_type": "stream",
          "name": "stdout",
          "text": [
            "date\n"
          ]
        }
      ]
    },
    {
      "cell_type": "markdown",
      "source": [
        "48. Create a list of the first `n` triangular numbers.\n"
      ],
      "metadata": {
        "id": "xMMmtSb5D3s1"
      }
    },
    {
      "cell_type": "code",
      "source": [
        "n = 5\n",
        "triangular_numbers = [i * (i + 1) // 2 for i in range(1, n + 1)]\n",
        "print(triangular_numbers)\n"
      ],
      "metadata": {
        "colab": {
          "base_uri": "https://localhost:8080/"
        },
        "id": "bqSRWfx1Hzvk",
        "outputId": "dd1efc44-a349-43b1-a4e9-bec0a117dfc6"
      },
      "execution_count": 103,
      "outputs": [
        {
          "output_type": "stream",
          "name": "stdout",
          "text": [
            "[1, 3, 6, 10, 15]\n"
          ]
        }
      ]
    },
    {
      "cell_type": "markdown",
      "source": [
        "49. Check if a list contains another list as a subsequence.\n"
      ],
      "metadata": {
        "id": "KbUd9L1sD9zl"
      }
    },
    {
      "cell_type": "markdown",
      "source": [
        "50. Swap two elements in a list by their indices.\n"
      ],
      "metadata": {
        "id": "DCyz9Y5HEDJ0"
      }
    },
    {
      "cell_type": "code",
      "source": [
        "my_list = [1, 2, 3, 4, 5]\n",
        "index1 = 1\n",
        "index2 = 3\n",
        "\n",
        "my_list[index1], my_list[index2] = my_list[index2], my_list[index1]\n",
        "print(my_list)"
      ],
      "metadata": {
        "colab": {
          "base_uri": "https://localhost:8080/"
        },
        "id": "Z9J_7GfWILRR",
        "outputId": "e9fdd54f-c927-4bcb-cbd0-265f53043dbc"
      },
      "execution_count": 104,
      "outputs": [
        {
          "output_type": "stream",
          "name": "stdout",
          "text": [
            "[1, 4, 3, 2, 5]\n"
          ]
        }
      ]
    },
    {
      "cell_type": "markdown",
      "source": [
        "## ***Tuple Based Practice Problem :***"
      ],
      "metadata": {
        "id": "VGV-0rSDEEUi"
      }
    },
    {
      "cell_type": "markdown",
      "source": [
        "1. Create a tuple with integers from 1 to 5.\n"
      ],
      "metadata": {
        "id": "pVEwmnmWELnY"
      }
    },
    {
      "cell_type": "code",
      "source": [
        "a = tuple(i for i in range(0,5))\n",
        "a"
      ],
      "metadata": {
        "colab": {
          "base_uri": "https://localhost:8080/"
        },
        "id": "y2QhxbuzJBmv",
        "outputId": "9a85f19e-6d80-40c8-9688-7f9f2e5104d9"
      },
      "execution_count": 105,
      "outputs": [
        {
          "output_type": "execute_result",
          "data": {
            "text/plain": [
              "(0, 1, 2, 3, 4)"
            ]
          },
          "metadata": {},
          "execution_count": 105
        }
      ]
    },
    {
      "cell_type": "markdown",
      "source": [
        "2. Access the third element of a tuple.\n"
      ],
      "metadata": {
        "id": "L-kyAAYSEPDj"
      }
    },
    {
      "cell_type": "code",
      "source": [
        "a[2]"
      ],
      "metadata": {
        "colab": {
          "base_uri": "https://localhost:8080/"
        },
        "id": "464wlJ_yJVJ5",
        "outputId": "ae5848ef-9436-4daf-86fd-2e472a51aa8f"
      },
      "execution_count": 106,
      "outputs": [
        {
          "output_type": "execute_result",
          "data": {
            "text/plain": [
              "2"
            ]
          },
          "metadata": {},
          "execution_count": 106
        }
      ]
    },
    {
      "cell_type": "markdown",
      "source": [
        "3. Find the length of a tuple without using the `len()` function.\n"
      ],
      "metadata": {
        "id": "pTptfrZsESeE"
      }
    },
    {
      "cell_type": "code",
      "source": [
        "c = 0\n",
        "for i in a :\n",
        "  c = c+1\n",
        "c"
      ],
      "metadata": {
        "colab": {
          "base_uri": "https://localhost:8080/"
        },
        "id": "wpNIoiYSJdKN",
        "outputId": "2e1c0e8f-6369-4ea1-b2f6-b1756cf6bfcf"
      },
      "execution_count": 107,
      "outputs": [
        {
          "output_type": "execute_result",
          "data": {
            "text/plain": [
              "5"
            ]
          },
          "metadata": {},
          "execution_count": 107
        }
      ]
    },
    {
      "cell_type": "markdown",
      "source": [
        "4. Count the occurrences of an element in a tuple.\n"
      ],
      "metadata": {
        "id": "U3IHn6BqEXPn"
      }
    },
    {
      "cell_type": "code",
      "source": [
        "for i in a:\n",
        "  print(i,'count is ',a.count(i))"
      ],
      "metadata": {
        "id": "YnvWBCxlTWNo",
        "colab": {
          "base_uri": "https://localhost:8080/"
        },
        "outputId": "baa88eb6-a157-4b87-c075-b9035e1c3818"
      },
      "execution_count": 108,
      "outputs": [
        {
          "output_type": "stream",
          "name": "stdout",
          "text": [
            "0 count is  1\n",
            "1 count is  1\n",
            "2 count is  1\n",
            "3 count is  1\n",
            "4 count is  1\n"
          ]
        }
      ]
    },
    {
      "cell_type": "markdown",
      "source": [
        "5. Find the index of the first occurrence of an element in a tuple.\n"
      ],
      "metadata": {
        "id": "X_mIdZS9E4Q0"
      }
    },
    {
      "cell_type": "code",
      "source": [
        "for i in a:\n",
        "  print(f'Index of {i}:',a.index(i))"
      ],
      "metadata": {
        "colab": {
          "base_uri": "https://localhost:8080/"
        },
        "id": "Z5YeqJpgGmn1",
        "outputId": "d0aeb84f-ec43-4565-928d-231f0be36118"
      },
      "execution_count": 109,
      "outputs": [
        {
          "output_type": "stream",
          "name": "stdout",
          "text": [
            "Index of 0: 0\n",
            "Index of 1: 1\n",
            "Index of 2: 2\n",
            "Index of 3: 3\n",
            "Index of 4: 4\n"
          ]
        }
      ]
    },
    {
      "cell_type": "markdown",
      "source": [
        "6. Check if an element exists in a tuple.\n"
      ],
      "metadata": {
        "id": "7bdL_5wnE93y"
      }
    },
    {
      "cell_type": "code",
      "source": [
        "print('Present') if 8 in a else print('Not Present')"
      ],
      "metadata": {
        "id": "W8y4RXrq6tEV",
        "colab": {
          "base_uri": "https://localhost:8080/"
        },
        "outputId": "3b5f5f83-ffca-464e-dc13-7e47a913bcbd"
      },
      "execution_count": 110,
      "outputs": [
        {
          "output_type": "stream",
          "name": "stdout",
          "text": [
            "Not Present\n"
          ]
        }
      ]
    },
    {
      "cell_type": "markdown",
      "source": [
        "7. Convert a tuple to a list.\n"
      ],
      "metadata": {
        "id": "cSm4ctL8FBCT"
      }
    },
    {
      "cell_type": "code",
      "source": [
        "b = list(a)\n",
        "b"
      ],
      "metadata": {
        "colab": {
          "base_uri": "https://localhost:8080/"
        },
        "id": "cKUfo9HnHaBN",
        "outputId": "2dc8e6b0-3a76-4713-82ac-1743359a3049"
      },
      "execution_count": 111,
      "outputs": [
        {
          "output_type": "execute_result",
          "data": {
            "text/plain": [
              "[0, 1, 2, 3, 4]"
            ]
          },
          "metadata": {},
          "execution_count": 111
        }
      ]
    },
    {
      "cell_type": "markdown",
      "source": [
        "8. Convert a list to a tuple.\n"
      ],
      "metadata": {
        "id": "BTVzhT3XFGsx"
      }
    },
    {
      "cell_type": "code",
      "source": [
        "c = tuple(b)\n",
        "c"
      ],
      "metadata": {
        "colab": {
          "base_uri": "https://localhost:8080/"
        },
        "id": "e3JBP4-JHfmx",
        "outputId": "ea6f043b-0382-4810-de2b-b515c008f63f"
      },
      "execution_count": 112,
      "outputs": [
        {
          "output_type": "execute_result",
          "data": {
            "text/plain": [
              "(0, 1, 2, 3, 4)"
            ]
          },
          "metadata": {},
          "execution_count": 112
        }
      ]
    },
    {
      "cell_type": "markdown",
      "source": [
        "9. Unpack the elements of a tuple into variables.\n"
      ],
      "metadata": {
        "id": "ItkAapwdFJPe"
      }
    },
    {
      "cell_type": "code",
      "source": [
        "variable = ['a','b','c','d','e','i','j','k','l']"
      ],
      "metadata": {
        "id": "5LhZQzoPHljs"
      },
      "execution_count": 113,
      "outputs": []
    },
    {
      "cell_type": "code",
      "source": [
        "c = (0, 1, 2, 3, 4)\n",
        "variable = ['a', 'b', 'c', 'd', 'e', 'i', 'j', 'k', 'l']\n",
        "\n",
        "for i in c:\n",
        "    variable[i] = c[i]\n",
        "    print(variable[i])\n"
      ],
      "metadata": {
        "colab": {
          "base_uri": "https://localhost:8080/"
        },
        "id": "UAzczAS_Hlqb",
        "outputId": "84d582da-7232-4838-e7f6-6ece7494de4e"
      },
      "execution_count": 114,
      "outputs": [
        {
          "output_type": "stream",
          "name": "stdout",
          "text": [
            "0\n",
            "1\n",
            "2\n",
            "3\n",
            "4\n"
          ]
        }
      ]
    },
    {
      "cell_type": "code",
      "source": [
        "# 10. Create a tuple of even numbers from 1 to 10.\n",
        "even_numbers = tuple(num for num in range(2, 11, 2))\n",
        "print(even_numbers)\n",
        "\n",
        "# 11. Create a tuple of odd numbers from 1 to 10.\n",
        "odd_numbers = tuple(num for num in range(1, 11, 2))\n",
        "print(odd_numbers)\n",
        "\n",
        "# 12. Concatenate two tuples.\n",
        "tuple_12a = (1, 2, 3)\n",
        "tuple_12b = (4, 5, 6)\n",
        "concatenated_tuple = tuple_12a + tuple_12b\n",
        "print(concatenated_tuple)\n",
        "\n",
        "# 13. Repeat a tuple three times.\n",
        "original_tuple = (1, 2, 3)\n",
        "repeated_tuple = original_tuple * 3\n",
        "print(repeated_tuple)\n",
        "\n",
        "# 14. Check if a tuple is empty.\n",
        "empty_tuple = ()\n",
        "if not empty_tuple:\n",
        "    print(\"Tuple is empty\")\n",
        "\n",
        "# 15. Create a nested tuple.\n",
        "nested_tuple = ((1, 2, 3), (\"a\", \"b\", \"c\"))\n",
        "\n",
        "# 16. Access the first element of a nested tuple.\n",
        "first_element = nested_tuple[0][0]\n",
        "print(first_element)\n",
        "\n",
        "# 17. Create a tuple with a single element.\n",
        "single_element_tuple = (42,)\n",
        "\n",
        "# 18. Compare two tuples.\n",
        "tuple_18a = (1, 2, 3)\n",
        "tuple_18b = (1, 2, 3)\n",
        "if tuple_18a == tuple_18b:\n",
        "    print(\"Tuples are equal\")\n",
        "\n",
        "# 19. Delete a tuple.\n",
        "tuple_to_delete = (1, 2, 3)\n",
        "del tuple_to_delete\n",
        "\n",
        "# 20. Slice a tuple.\n",
        "original_tuple_20 = (1, 2, 3, 4, 5)\n",
        "sliced_tuple = original_tuple_20[1:4]\n",
        "print(sliced_tuple)\n"
      ],
      "metadata": {
        "colab": {
          "base_uri": "https://localhost:8080/"
        },
        "id": "BQk2fqMtOiof",
        "outputId": "836f44b0-713f-4a22-8226-0142ce829396"
      },
      "execution_count": 115,
      "outputs": [
        {
          "output_type": "stream",
          "name": "stdout",
          "text": [
            "(2, 4, 6, 8, 10)\n",
            "(1, 3, 5, 7, 9)\n",
            "(1, 2, 3, 4, 5, 6)\n",
            "(1, 2, 3, 1, 2, 3, 1, 2, 3)\n",
            "Tuple is empty\n",
            "1\n",
            "Tuples are equal\n",
            "(2, 3, 4)\n"
          ]
        }
      ]
    },
    {
      "cell_type": "code",
      "source": [
        "tuple_21 = (3, 7, 1, 9, 4)\n",
        "max_value = tuple_21[0]\n",
        "for num in tuple_21:\n",
        "    if num > max_value:\n",
        "        max_value = num\n",
        "print(max_value)"
      ],
      "metadata": {
        "colab": {
          "base_uri": "https://localhost:8080/"
        },
        "id": "1CDhnirrMjzZ",
        "outputId": "f28983af-3c2e-4026-a09b-7d6df45a3c4c"
      },
      "execution_count": 116,
      "outputs": [
        {
          "output_type": "stream",
          "name": "stdout",
          "text": [
            "9\n"
          ]
        }
      ]
    },
    {
      "cell_type": "markdown",
      "source": [
        "22. Find the minimum value in a tuple.\n"
      ],
      "metadata": {
        "id": "3kugtaH8F0X-"
      }
    },
    {
      "cell_type": "code",
      "source": [
        "tuple_22 = (3, 7, 1, 9, 4)\n",
        "min_value = tuple_22[0]\n",
        "for num in tuple_22:\n",
        "    if num < min_value:\n",
        "        min_value = num\n",
        "print(min_value)"
      ],
      "metadata": {
        "colab": {
          "base_uri": "https://localhost:8080/"
        },
        "id": "EzZoN2q0MpqT",
        "outputId": "3a218429-fa9f-4037-9b08-41934b80a7ec"
      },
      "execution_count": 117,
      "outputs": [
        {
          "output_type": "stream",
          "name": "stdout",
          "text": [
            "1\n"
          ]
        }
      ]
    },
    {
      "cell_type": "markdown",
      "source": [
        "23. Convert a string to a tuple of characters.\n"
      ],
      "metadata": {
        "id": "apIvbCtzF22s"
      }
    },
    {
      "cell_type": "code",
      "source": [
        "string_23 = \"hello\"\n",
        "tuple_23 = ()\n",
        "for char in string_23:\n",
        "    tuple_23 += (char,)\n",
        "print(tuple_23)\n"
      ],
      "metadata": {
        "colab": {
          "base_uri": "https://localhost:8080/"
        },
        "id": "iNTi-EbnMsHt",
        "outputId": "3d61e80c-d38d-4f15-f9eb-a111f56592c2"
      },
      "execution_count": 118,
      "outputs": [
        {
          "output_type": "stream",
          "name": "stdout",
          "text": [
            "('h', 'e', 'l', 'l', 'o')\n"
          ]
        }
      ]
    },
    {
      "cell_type": "markdown",
      "source": [
        "24. Convert a tuple of characters to a string.\n"
      ],
      "metadata": {
        "id": "iX9cjkbnF5aR"
      }
    },
    {
      "cell_type": "code",
      "source": [
        "tuple_24 = ('h', 'e', 'l', 'l', 'o')\n",
        "string_24 = \"\"\n",
        "for char in tuple_24:\n",
        "    string_24 += char\n",
        "print(string_24)"
      ],
      "metadata": {
        "colab": {
          "base_uri": "https://localhost:8080/"
        },
        "id": "xhEsvrK8Mwzs",
        "outputId": "c0914d6a-1e9d-458d-caa2-2a344586ec3e"
      },
      "execution_count": 119,
      "outputs": [
        {
          "output_type": "stream",
          "name": "stdout",
          "text": [
            "hello\n"
          ]
        }
      ]
    },
    {
      "cell_type": "markdown",
      "source": [
        "25. Create a tuple from multiple data types.\n"
      ],
      "metadata": {
        "id": "85PIQKGVF74C"
      }
    },
    {
      "cell_type": "code",
      "source": [
        "tuple_25 = (5, \"hello\", 3.14, True)\n"
      ],
      "metadata": {
        "id": "jbZONRkkM9ii"
      },
      "execution_count": 120,
      "outputs": []
    },
    {
      "cell_type": "markdown",
      "source": [
        "26. Check if two tuples are identical.\n"
      ],
      "metadata": {
        "id": "Fsn6dJriF-jT"
      }
    },
    {
      "cell_type": "code",
      "source": [
        "tuple_26a = (1, 2, 3)\n",
        "tuple_26b = (1, 2, 3)\n",
        "identical = True\n",
        "for i in range(len(tuple_26a)):\n",
        "    if tuple_26a[i] != tuple_26b[i]:\n",
        "        identical = False\n",
        "        break\n",
        "print(identical)"
      ],
      "metadata": {
        "colab": {
          "base_uri": "https://localhost:8080/"
        },
        "id": "5qUSQioUNDdC",
        "outputId": "d721a557-55a5-400a-f51b-66069ceb9140"
      },
      "execution_count": 121,
      "outputs": [
        {
          "output_type": "stream",
          "name": "stdout",
          "text": [
            "True\n"
          ]
        }
      ]
    },
    {
      "cell_type": "markdown",
      "source": [
        "27. Sort the elements of a tuple.\n"
      ],
      "metadata": {
        "id": "-a9yr8SbGCjM"
      }
    },
    {
      "cell_type": "code",
      "source": [
        "tuple_27 = (5, 2, 8, 1, 3)\n",
        "sorted_tuple_27 = ()\n",
        "while tuple_27:\n",
        "    min_value = tuple_27[0]\n",
        "    for num in tuple_27:\n",
        "        if num < min_value:\n",
        "            min_value = num\n",
        "    sorted_tuple_27 += (min_value,)\n",
        "    tuple_27 = tuple_27[:tuple_27.index(min_value)] + tuple_27[tuple_27.index(min_value) + 1:]\n",
        "print(sorted_tuple_27)"
      ],
      "metadata": {
        "colab": {
          "base_uri": "https://localhost:8080/"
        },
        "id": "ikpCP5I5NEuX",
        "outputId": "7ffc1258-b24f-4b91-c842-37c088721116"
      },
      "execution_count": 122,
      "outputs": [
        {
          "output_type": "stream",
          "name": "stdout",
          "text": [
            "(1, 2, 3, 5, 8)\n"
          ]
        }
      ]
    },
    {
      "cell_type": "markdown",
      "source": [
        "28. Convert a tuple of integers to a tuple of strings.\n"
      ],
      "metadata": {
        "id": "Gs5tUmMnGG2G"
      }
    },
    {
      "cell_type": "code",
      "source": [
        "tuple_28 = (5, 2, 8, 1, 3)\n",
        "tuple_of_strings = ()\n",
        "for num in tuple_28:\n",
        "    tuple_of_strings += (str(num),)\n",
        "print(tuple_of_strings)"
      ],
      "metadata": {
        "colab": {
          "base_uri": "https://localhost:8080/"
        },
        "id": "IqEkG7I8NSRB",
        "outputId": "420b29e0-27bb-40a6-8bca-7cf257f8763d"
      },
      "execution_count": 123,
      "outputs": [
        {
          "output_type": "stream",
          "name": "stdout",
          "text": [
            "('5', '2', '8', '1', '3')\n"
          ]
        }
      ]
    },
    {
      "cell_type": "markdown",
      "source": [
        "29. Convert a tuple of strings to a tuple of integers.\n"
      ],
      "metadata": {
        "id": "UwOqAadXGI__"
      }
    },
    {
      "cell_type": "code",
      "source": [
        "tuple_29 = (\"5\", \"2\", \"8\", \"1\", \"3\")\n",
        "tuple_of_integers = ()\n",
        "for num_str in tuple_29:\n",
        "    tuple_of_integers += (int(num_str),)\n",
        "print(tuple_of_integers)"
      ],
      "metadata": {
        "colab": {
          "base_uri": "https://localhost:8080/"
        },
        "id": "KToOO6dCNXmu",
        "outputId": "a28051dc-8d8b-4915-da4e-e5cdf0dbfec6"
      },
      "execution_count": 124,
      "outputs": [
        {
          "output_type": "stream",
          "name": "stdout",
          "text": [
            "(5, 2, 8, 1, 3)\n"
          ]
        }
      ]
    },
    {
      "cell_type": "markdown",
      "source": [
        "30. Merge two tuples.\n"
      ],
      "metadata": {
        "id": "UPak6AoLGMM_"
      }
    },
    {
      "cell_type": "code",
      "source": [
        "tuple_30a = (1, 2, 3)\n",
        "tuple_30b = (4, 5, 6)\n",
        "merged_tuple = ()\n",
        "for item in tuple_30a + tuple_30b:\n",
        "    merged_tuple += (item,)\n",
        "print(merged_tuple)\n"
      ],
      "metadata": {
        "colab": {
          "base_uri": "https://localhost:8080/"
        },
        "id": "67cONOiYGCG0",
        "outputId": "b07bd19b-ec82-436b-c827-400b78fd6619"
      },
      "execution_count": 125,
      "outputs": [
        {
          "output_type": "stream",
          "name": "stdout",
          "text": [
            "(1, 2, 3, 4, 5, 6)\n"
          ]
        }
      ]
    },
    {
      "cell_type": "markdown",
      "source": [
        "31. Flatten a nested tuple.\n"
      ],
      "metadata": {
        "id": "gwio1bzeGPR3"
      }
    },
    {
      "cell_type": "code",
      "source": [
        "nested_tuple = ((1, 2, 3), (4, 5, 6), (7, 8, 9))\n",
        "flattened_tuple = ()\n",
        "for sub_tuple in nested_tuple:\n",
        "    for item in sub_tuple:\n",
        "        flattened_tuple += (item,)\n",
        "print(flattened_tuple)"
      ],
      "metadata": {
        "colab": {
          "base_uri": "https://localhost:8080/"
        },
        "id": "2YYF4AYWNgnV",
        "outputId": "eafd4ddb-9949-4568-c4ff-ee6d22433f14"
      },
      "execution_count": 126,
      "outputs": [
        {
          "output_type": "stream",
          "name": "stdout",
          "text": [
            "(1, 2, 3, 4, 5, 6, 7, 8, 9)\n"
          ]
        }
      ]
    },
    {
      "cell_type": "markdown",
      "source": [
        "32. Create a tuple of the first 5 prime numbers.\n"
      ],
      "metadata": {
        "id": "YQ1f42-gGZF-"
      }
    },
    {
      "cell_type": "code",
      "source": [
        "prime_numbers = ()\n",
        "num = 2\n",
        "while len(prime_numbers) < 5:\n",
        "    is_prime = True\n",
        "    for i in range(2, num):\n",
        "        if num % i == 0:\n",
        "            is_prime = False\n",
        "            break\n",
        "    if is_prime:\n",
        "        prime_numbers += (num,)\n",
        "    num += 1\n",
        "print(prime_numbers)"
      ],
      "metadata": {
        "colab": {
          "base_uri": "https://localhost:8080/"
        },
        "id": "5FjygRz5NmLd",
        "outputId": "40c8f36f-851d-4697-ae06-cd25d27688b4"
      },
      "execution_count": 127,
      "outputs": [
        {
          "output_type": "stream",
          "name": "stdout",
          "text": [
            "(2, 3, 5, 7, 11)\n"
          ]
        }
      ]
    },
    {
      "cell_type": "markdown",
      "source": [
        "33. Check if a tuple is a palindrome.\n"
      ],
      "metadata": {
        "id": "R3lnsQQwGbUG"
      }
    },
    {
      "cell_type": "code",
      "source": [
        "tuple_33 = (1, 2, 3, 2, 1)\n",
        "is_palindrome = True\n",
        "length = len(tuple_33)\n",
        "for i in range(length // 2):\n",
        "    if tuple_33[i] != tuple_33[length - i - 1]:\n",
        "        is_palindrome = False\n",
        "        break\n",
        "print(is_palindrome)"
      ],
      "metadata": {
        "colab": {
          "base_uri": "https://localhost:8080/"
        },
        "id": "LAZk9pj_N4hR",
        "outputId": "ad5b428d-e7ad-4961-f237-9da740ada162"
      },
      "execution_count": 128,
      "outputs": [
        {
          "output_type": "stream",
          "name": "stdout",
          "text": [
            "True\n"
          ]
        }
      ]
    },
    {
      "cell_type": "markdown",
      "source": [
        "34. Create a tuple of squares of numbers from 1 to 5.\n"
      ],
      "metadata": {
        "id": "7UrGWnFEGdl5"
      }
    },
    {
      "cell_type": "code",
      "source": [
        "tuple_34 = ()\n",
        "for num in range(1, 6):\n",
        "    tuple_34 += (num ** 2,)\n",
        "print(tuple_34)"
      ],
      "metadata": {
        "colab": {
          "base_uri": "https://localhost:8080/"
        },
        "id": "zGtMnAgYN3rI",
        "outputId": "5c3f3355-b36b-4dde-b689-4731bb9ba5ae"
      },
      "execution_count": 129,
      "outputs": [
        {
          "output_type": "stream",
          "name": "stdout",
          "text": [
            "(1, 4, 9, 16, 25)\n"
          ]
        }
      ]
    },
    {
      "cell_type": "markdown",
      "source": [
        "35. Filter out all even numbers from a tuple.\n"
      ],
      "metadata": {
        "id": "5-qyDnsjGf1l"
      }
    },
    {
      "cell_type": "code",
      "source": [
        "tuple_35 = (1, 2, 3, 4, 5, 6, 7, 8, 9)\n",
        "filtered_tuple_35 = ()\n",
        "for num in tuple_35:\n",
        "    if num % 2 != 0:\n",
        "        filtered_tuple_35 += (num,)\n",
        "print(filtered_tuple_35)"
      ],
      "metadata": {
        "colab": {
          "base_uri": "https://localhost:8080/"
        },
        "id": "Z3zbIXBEN_In",
        "outputId": "bb23b29c-743d-418a-c651-387cedaf2489"
      },
      "execution_count": 130,
      "outputs": [
        {
          "output_type": "stream",
          "name": "stdout",
          "text": [
            "(1, 3, 5, 7, 9)\n"
          ]
        }
      ]
    },
    {
      "cell_type": "markdown",
      "source": [
        "36. Multiply all elements in a tuple by 2"
      ],
      "metadata": {
        "id": "ckEq8d8YGiS3"
      }
    },
    {
      "cell_type": "code",
      "source": [
        "tuple_36 = (3, 7, 1, 9, 4)\n",
        "multiplied_tuple = ()\n",
        "for num in tuple_36:\n",
        "    multiplied_tuple += (num * 2,)\n",
        "print(multiplied_tuple)"
      ],
      "metadata": {
        "colab": {
          "base_uri": "https://localhost:8080/"
        },
        "id": "oQo30yTHFF3o",
        "outputId": "89c4670c-da41-4024-d886-c885c18e3247"
      },
      "execution_count": 131,
      "outputs": [
        {
          "output_type": "stream",
          "name": "stdout",
          "text": [
            "(6, 14, 2, 18, 8)\n"
          ]
        }
      ]
    },
    {
      "cell_type": "code",
      "source": [
        "import random\n",
        "\n",
        "# 37. Create a tuple of random numbers.\n",
        "random_numbers = tuple(random.randint(1, 100) for _ in range(5))\n",
        "print(random_numbers)"
      ],
      "metadata": {
        "colab": {
          "base_uri": "https://localhost:8080/"
        },
        "id": "exIWbirDScg-",
        "outputId": "8215967d-b669-40aa-a321-4d1dbededa51"
      },
      "execution_count": 132,
      "outputs": [
        {
          "output_type": "stream",
          "name": "stdout",
          "text": [
            "(7, 50, 90, 6, 55)\n"
          ]
        }
      ]
    },
    {
      "cell_type": "code",
      "source": [
        "# 38. Check if a tuple is sorted.\n",
        "tuple_38 = (1, 2, 3, 4, 5)\n",
        "is_sorted = all(tuple_38[i] <= tuple_38[i + 1] for i in range(len(tuple_38) - 1))\n",
        "print(is_sorted)\n"
      ],
      "metadata": {
        "colab": {
          "base_uri": "https://localhost:8080/"
        },
        "id": "6yzetW4hSf2h",
        "outputId": "1600b229-6cde-4222-e897-bd6d735663f5"
      },
      "execution_count": 133,
      "outputs": [
        {
          "output_type": "stream",
          "name": "stdout",
          "text": [
            "True\n"
          ]
        }
      ]
    },
    {
      "cell_type": "code",
      "source": [
        "# 39. Rotate a tuple to the left by `n` positions.\n",
        "tuple_39 = (1, 2, 3, 4, 5)\n",
        "n = 2\n",
        "rotated_tuple_39 = tuple_39[n:] + tuple_39[:n]\n",
        "print(rotated_tuple_39)"
      ],
      "metadata": {
        "colab": {
          "base_uri": "https://localhost:8080/"
        },
        "id": "00AaCkvrSmMN",
        "outputId": "1e3819cb-9a6e-41a7-bddc-c943dd6f98e2"
      },
      "execution_count": 134,
      "outputs": [
        {
          "output_type": "stream",
          "name": "stdout",
          "text": [
            "(3, 4, 5, 1, 2)\n"
          ]
        }
      ]
    },
    {
      "cell_type": "code",
      "source": [
        "# 40. Rotate a tuple to the right by `n` positions.\n",
        "tuple_40 = (1, 2, 3, 4, 5)\n",
        "n = 2\n",
        "rotated_tuple_40 = tuple_40[-n:] + tuple_40[:-n]\n",
        "print(rotated_tuple_40)"
      ],
      "metadata": {
        "colab": {
          "base_uri": "https://localhost:8080/"
        },
        "id": "o4hDA1atSq-w",
        "outputId": "54d859e5-0236-4b2d-c23a-6b07b299b3e1"
      },
      "execution_count": 135,
      "outputs": [
        {
          "output_type": "stream",
          "name": "stdout",
          "text": [
            "(4, 5, 1, 2, 3)\n"
          ]
        }
      ]
    },
    {
      "cell_type": "code",
      "source": [
        "# 41. Create a tuple of the first 5 Fibonacci numbers.\n",
        "fibonacci_numbers = (0, 1)\n",
        "while len(fibonacci_numbers) < 5:\n",
        "    next_fibonacci = fibonacci_numbers[-1] + fibonacci_numbers[-2]\n",
        "    fibonacci_numbers += (next_fibonacci,)\n",
        "print(fibonacci_numbers)"
      ],
      "metadata": {
        "colab": {
          "base_uri": "https://localhost:8080/"
        },
        "id": "65FwiSa-Sunf",
        "outputId": "d5e373ec-291d-4691-c4f9-e8f2861413f0"
      },
      "execution_count": 136,
      "outputs": [
        {
          "output_type": "stream",
          "name": "stdout",
          "text": [
            "(0, 1, 1, 2, 3)\n"
          ]
        }
      ]
    },
    {
      "cell_type": "code",
      "source": [
        "# 42. Create a tuple from user input.\n",
        "user_input = input(\"Enter comma-separated values: \")\n",
        "user_tuple = tuple(user_input.split(','))"
      ],
      "metadata": {
        "colab": {
          "base_uri": "https://localhost:8080/"
        },
        "id": "bSBYQLKeSxmy",
        "outputId": "190a4cf8-9a98-4988-c270-f3cb2319fa2f"
      },
      "execution_count": 137,
      "outputs": [
        {
          "name": "stdout",
          "output_type": "stream",
          "text": [
            "Enter comma-separated values: 1,2,3,4,5\n"
          ]
        }
      ]
    },
    {
      "cell_type": "code",
      "source": [
        "# 43. Swap two elements in a tuple.\n",
        "tuple_43 = (1, 2, 3, 4, 5)\n",
        "index1, index2 = 1, 3\n",
        "swapped_list = list(tuple_43)\n",
        "swapped_list[index1], swapped_list[index2] = swapped_list[index2], swapped_list[index1]\n",
        "swapped_tuple_43 = tuple(swapped_list)\n",
        "print(swapped_tuple_43)"
      ],
      "metadata": {
        "colab": {
          "base_uri": "https://localhost:8080/"
        },
        "id": "ye0zMjilS0oA",
        "outputId": "f1169e22-2d3c-41e5-b39b-4b734c243adf"
      },
      "execution_count": 138,
      "outputs": [
        {
          "output_type": "stream",
          "name": "stdout",
          "text": [
            "(1, 4, 3, 2, 5)\n"
          ]
        }
      ]
    },
    {
      "cell_type": "code",
      "source": [
        "# 44. Reverse the elements of a tuple.\n",
        "tuple_44 = (1, 2, 3, 4, 5)\n",
        "reversed_tuple_44 = tuple_44[::-1]\n",
        "print(reversed_tuple_44)"
      ],
      "metadata": {
        "colab": {
          "base_uri": "https://localhost:8080/"
        },
        "id": "-gm1hhaSS4ZU",
        "outputId": "fbc91b24-b3d7-46f6-9f86-5e369ef44960"
      },
      "execution_count": 139,
      "outputs": [
        {
          "output_type": "stream",
          "name": "stdout",
          "text": [
            "(5, 4, 3, 2, 1)\n"
          ]
        }
      ]
    },
    {
      "cell_type": "code",
      "source": [
        "# 45. Create a tuple of the first `n` powers of 2.\n",
        "n = 5\n",
        "powers_of_2 = tuple(2 ** i for i in range(n))\n",
        "print(powers_of_2)"
      ],
      "metadata": {
        "colab": {
          "base_uri": "https://localhost:8080/"
        },
        "id": "UloPYDeTS7dD",
        "outputId": "00f7923b-ff0c-4cf9-e59f-17a808f3e925"
      },
      "execution_count": 140,
      "outputs": [
        {
          "output_type": "stream",
          "name": "stdout",
          "text": [
            "(1, 2, 4, 8, 16)\n"
          ]
        }
      ]
    },
    {
      "cell_type": "code",
      "source": [
        "# 46. Find the longest string in a tuple of strings.\n",
        "tuple_46 = (\"apple\", \"banana\", \"cherry\", \"date\")\n",
        "longest_string = max(tuple_46, key=len)\n",
        "print(longest_string)"
      ],
      "metadata": {
        "colab": {
          "base_uri": "https://localhost:8080/"
        },
        "id": "EeWcYg8STI_P",
        "outputId": "93893526-b2c2-4c04-b9f1-387ff7afabfc"
      },
      "execution_count": 141,
      "outputs": [
        {
          "output_type": "stream",
          "name": "stdout",
          "text": [
            "banana\n"
          ]
        }
      ]
    },
    {
      "cell_type": "code",
      "source": [
        "# 47. Find the shortest string in a tuple of strings.\n",
        "tuple_47 = (\"apple\", \"banana\", \"cherry\", \"date\")\n",
        "shortest_string = min(tuple_47, key=len)\n",
        "print(shortest_string)"
      ],
      "metadata": {
        "colab": {
          "base_uri": "https://localhost:8080/"
        },
        "id": "aEUw8cNaTMO-",
        "outputId": "7896325b-6267-4821-80bb-bb6b85b1d31a"
      },
      "execution_count": 142,
      "outputs": [
        {
          "output_type": "stream",
          "name": "stdout",
          "text": [
            "date\n"
          ]
        }
      ]
    },
    {
      "cell_type": "code",
      "source": [
        "# 48. Create a tuple of the first `n` triangular numbers.\n",
        "n = 5\n",
        "triangular_numbers = tuple((i * (i + 1)) // 2 for i in range(1, n + 1))\n",
        "print(triangular_numbers)"
      ],
      "metadata": {
        "colab": {
          "base_uri": "https://localhost:8080/"
        },
        "id": "JkInYG-JTQiZ",
        "outputId": "1dc435e0-0760-42f4-8fe7-12f7bb59cc59"
      },
      "execution_count": 143,
      "outputs": [
        {
          "output_type": "stream",
          "name": "stdout",
          "text": [
            "(1, 3, 6, 10, 15)\n"
          ]
        }
      ]
    },
    {
      "cell_type": "code",
      "source": [
        "# 49. Check if a tuple contains another tuple as a subsequence.\n",
        "tuple_49 = (1, 2, (3, 4), 5, 6)\n",
        "sub_tuple = (3, 4)\n",
        "contains_sub_tuple = sub_tuple in tuple_49"
      ],
      "metadata": {
        "id": "3lhnN0aFTTHq"
      },
      "execution_count": 144,
      "outputs": []
    },
    {
      "cell_type": "code",
      "source": [
        "# 50. Create a tuple of alternating 1s and 0s of length `n`.\n",
        "n = 7\n",
        "alternating_tuple = tuple(i % 2 for i in range(n))\n",
        "print(alternating_tuple)\n"
      ],
      "metadata": {
        "colab": {
          "base_uri": "https://localhost:8080/"
        },
        "id": "YQBJku-3OIHr",
        "outputId": "8d1d4464-e5b1-4fd2-8c84-df8d89cbb64c"
      },
      "execution_count": 145,
      "outputs": [
        {
          "output_type": "stream",
          "name": "stdout",
          "text": [
            "(0, 1, 0, 1, 0, 1, 0)\n"
          ]
        }
      ]
    },
    {
      "cell_type": "markdown",
      "source": [
        "# **Set Based Practice Problem :**"
      ],
      "metadata": {
        "id": "Yll8KG8gTVx_"
      }
    },
    {
      "cell_type": "code",
      "source": [
        "# 1. Create a set with integers from 1 to 5.\n",
        "set_1 = {1, 2, 3, 4, 5}\n",
        "print(set_1)  # Output: {1, 2, 3, 4, 5}"
      ],
      "metadata": {
        "colab": {
          "base_uri": "https://localhost:8080/"
        },
        "id": "_9dYmn98ThZN",
        "outputId": "d3c2697e-291d-4e45-9845-4155528b294b"
      },
      "execution_count": 146,
      "outputs": [
        {
          "output_type": "stream",
          "name": "stdout",
          "text": [
            "{1, 2, 3, 4, 5}\n"
          ]
        }
      ]
    },
    {
      "cell_type": "code",
      "source": [
        "\n",
        "# 2. Add an element to a set.\n",
        "set_2 = {1, 2, 3}\n",
        "set_2.add(4)\n",
        "print(set_2)"
      ],
      "metadata": {
        "colab": {
          "base_uri": "https://localhost:8080/"
        },
        "id": "NVku_nd7TlAR",
        "outputId": "86ed94a4-bea6-4816-a9eb-8d9a315a05aa"
      },
      "execution_count": 147,
      "outputs": [
        {
          "output_type": "stream",
          "name": "stdout",
          "text": [
            "{1, 2, 3, 4}\n"
          ]
        }
      ]
    },
    {
      "cell_type": "code",
      "source": [
        "# 3. Remove an element from a set.\n",
        "set_3 = {1, 2, 3, 4}\n",
        "set_3.remove(4)\n",
        "print(set_3)"
      ],
      "metadata": {
        "colab": {
          "base_uri": "https://localhost:8080/"
        },
        "id": "wRXm20hRTqKX",
        "outputId": "b364a92c-39ec-4feb-f3c4-d9e229e224cf"
      },
      "execution_count": 148,
      "outputs": [
        {
          "output_type": "stream",
          "name": "stdout",
          "text": [
            "{1, 2, 3}\n"
          ]
        }
      ]
    },
    {
      "cell_type": "code",
      "source": [
        "# 4. Check if an element exists in a set.\n",
        "set_4 = {1, 2, 3, 4, 5}\n",
        "element_exists = 3 in set_4\n",
        "print(element_exists)"
      ],
      "metadata": {
        "colab": {
          "base_uri": "https://localhost:8080/"
        },
        "id": "vYOG8bw6Tq6y",
        "outputId": "4c87c409-fd7f-4523-8a3e-fff392126b0b"
      },
      "execution_count": 149,
      "outputs": [
        {
          "output_type": "stream",
          "name": "stdout",
          "text": [
            "True\n"
          ]
        }
      ]
    },
    {
      "cell_type": "code",
      "source": [
        "# 5. Find the length of a set without using the `len()` function.\n",
        "set_5 = {1, 2, 3, 4, 5}\n",
        "length = sum(1 for _ in set_5)\n",
        "print(length)"
      ],
      "metadata": {
        "colab": {
          "base_uri": "https://localhost:8080/"
        },
        "id": "AcScNF85TuYW",
        "outputId": "a78541ad-3865-4103-91bc-aeb88f72f5e1"
      },
      "execution_count": 150,
      "outputs": [
        {
          "output_type": "stream",
          "name": "stdout",
          "text": [
            "5\n"
          ]
        }
      ]
    },
    {
      "cell_type": "code",
      "source": [
        "# 6. Clear all elements from a set.\n",
        "set_6 = {1, 2, 3, 4, 5}\n",
        "set_6.clear()\n",
        "print(set_6)"
      ],
      "metadata": {
        "colab": {
          "base_uri": "https://localhost:8080/"
        },
        "id": "ylZR2i1tTyVa",
        "outputId": "f1f2083a-345a-46ee-addb-cb9ada21b220"
      },
      "execution_count": 151,
      "outputs": [
        {
          "output_type": "stream",
          "name": "stdout",
          "text": [
            "set()\n"
          ]
        }
      ]
    },
    {
      "cell_type": "code",
      "source": [
        "# 7. Create a set of even numbers from 1 to 10.\n",
        "even_numbers = {num for num in range(2, 11, 2)}\n",
        "print(even_numbers)"
      ],
      "metadata": {
        "colab": {
          "base_uri": "https://localhost:8080/"
        },
        "id": "2107C8ngT1bU",
        "outputId": "ae5cbf8c-58f9-4693-c1a8-b2972def82cc"
      },
      "execution_count": 152,
      "outputs": [
        {
          "output_type": "stream",
          "name": "stdout",
          "text": [
            "{2, 4, 6, 8, 10}\n"
          ]
        }
      ]
    },
    {
      "cell_type": "code",
      "source": [
        "# 8. Create a set of odd numbers from 1 to 10.\n",
        "odd_numbers = {num for num in range(1, 11, 2)}\n",
        "print(odd_numbers)"
      ],
      "metadata": {
        "colab": {
          "base_uri": "https://localhost:8080/"
        },
        "id": "1Ris5YOKT4S0",
        "outputId": "767777ed-6127-4a39-e91e-14b8d88580c9"
      },
      "execution_count": 153,
      "outputs": [
        {
          "output_type": "stream",
          "name": "stdout",
          "text": [
            "{1, 3, 5, 7, 9}\n"
          ]
        }
      ]
    },
    {
      "cell_type": "code",
      "source": [
        "# 9. Find the union of two sets.\n",
        "set_9a = {1, 2, 3}\n",
        "set_9b = {3, 4, 5}\n",
        "union_set = set_9a | set_9b\n",
        "print(union_set)"
      ],
      "metadata": {
        "colab": {
          "base_uri": "https://localhost:8080/"
        },
        "id": "mi7fj2igT8wt",
        "outputId": "0ab4f7ee-8081-4827-a48c-404cce248b79"
      },
      "execution_count": 154,
      "outputs": [
        {
          "output_type": "stream",
          "name": "stdout",
          "text": [
            "{1, 2, 3, 4, 5}\n"
          ]
        }
      ]
    },
    {
      "cell_type": "code",
      "source": [
        "# 10. Find the intersection of two sets.\n",
        "set_10a = {1, 2, 3}\n",
        "set_10b = {3, 4, 5}\n",
        "intersection_set = set_10a & set_10b\n",
        "print(intersection_set)"
      ],
      "metadata": {
        "colab": {
          "base_uri": "https://localhost:8080/"
        },
        "id": "zJ9_4vgyT_B0",
        "outputId": "8051b23a-e0c4-4b2d-9326-49272f81bbbb"
      },
      "execution_count": 155,
      "outputs": [
        {
          "output_type": "stream",
          "name": "stdout",
          "text": [
            "{3}\n"
          ]
        }
      ]
    },
    {
      "cell_type": "code",
      "source": [
        "# 11. Find the difference between two sets.\n",
        "set_11a = {1, 2, 3}\n",
        "set_11b = {3, 4, 5}\n",
        "difference_set = set_11a - set_11b\n",
        "print(difference_set)"
      ],
      "metadata": {
        "colab": {
          "base_uri": "https://localhost:8080/"
        },
        "id": "joAnu-nsUARl",
        "outputId": "76505768-d8a5-4400-d8a8-07f20fb4914f"
      },
      "execution_count": 156,
      "outputs": [
        {
          "output_type": "stream",
          "name": "stdout",
          "text": [
            "{1, 2}\n"
          ]
        }
      ]
    },
    {
      "cell_type": "code",
      "source": [
        "# 12. Check if a set is a subset of another set.\n",
        "set_12a = {1, 2}\n",
        "set_12b = {1, 2, 3, 4}\n",
        "is_subset = set_12a <= set_12b\n",
        "print(is_subset)"
      ],
      "metadata": {
        "colab": {
          "base_uri": "https://localhost:8080/"
        },
        "id": "G2GXbox8UFHn",
        "outputId": "8afd21fa-52da-4c7a-dee2-ce853cee03da"
      },
      "execution_count": 157,
      "outputs": [
        {
          "output_type": "stream",
          "name": "stdout",
          "text": [
            "True\n"
          ]
        }
      ]
    },
    {
      "cell_type": "code",
      "source": [
        "# 13. Check if a set is a superset of another set.\n",
        "set_13a = {1, 2, 3, 4}\n",
        "set_13b = {1, 2}\n",
        "is_superset = set_13a >= set_13b\n",
        "print(is_superset)\n",
        "# 14. Create a set from a list.\n",
        "list_14 = [1, 2, 3, 4, 5]\n",
        "set_from_list = set(list_14)\n",
        "print(set_from_list)"
      ],
      "metadata": {
        "colab": {
          "base_uri": "https://localhost:8080/"
        },
        "id": "olmNsTWNUJh5",
        "outputId": "8c7868fa-74a4-4959-8c2e-d9651bb68362"
      },
      "execution_count": 158,
      "outputs": [
        {
          "output_type": "stream",
          "name": "stdout",
          "text": [
            "True\n",
            "{1, 2, 3, 4, 5}\n"
          ]
        }
      ]
    },
    {
      "cell_type": "code",
      "source": [
        "# 15. Convert a set to a list.\n",
        "set_15 = {1, 2, 3, 4, 5}\n",
        "list_from_set = list(set_15)\n",
        "print(list_from_set)\n"
      ],
      "metadata": {
        "colab": {
          "base_uri": "https://localhost:8080/"
        },
        "id": "wLYDkBcaO2v3",
        "outputId": "f649171f-9e76-429e-87f5-e32f2fb83c0c"
      },
      "execution_count": 159,
      "outputs": [
        {
          "output_type": "stream",
          "name": "stdout",
          "text": [
            "[1, 2, 3, 4, 5]\n"
          ]
        }
      ]
    },
    {
      "cell_type": "code",
      "source": [
        "import random\n",
        "\n",
        "# 16. Remove a random element from a set.\n",
        "set_16 = {1, 2, 3, 4, 5}\n",
        "random_element = random.choice(list(set_16))\n",
        "set_16.remove(random_element)\n",
        "print(set_16)"
      ],
      "metadata": {
        "colab": {
          "base_uri": "https://localhost:8080/"
        },
        "id": "4L6OFkj5ULpd",
        "outputId": "d99c01f5-8bf3-4e44-9c59-6020268f3912"
      },
      "execution_count": 160,
      "outputs": [
        {
          "output_type": "stream",
          "name": "stdout",
          "text": [
            "{1, 2, 4, 5}\n"
          ]
        }
      ]
    },
    {
      "cell_type": "code",
      "source": [
        "# 17. Pop an element from a set.\n",
        "set_17 = {1, 2, 3, 4, 5}\n",
        "popped_element = set_17.pop()\n",
        "print(popped_element)"
      ],
      "metadata": {
        "colab": {
          "base_uri": "https://localhost:8080/"
        },
        "id": "LIIv6tYZUPwp",
        "outputId": "54004ac4-c776-4245-d658-e22d3817f603"
      },
      "execution_count": 161,
      "outputs": [
        {
          "output_type": "stream",
          "name": "stdout",
          "text": [
            "1\n"
          ]
        }
      ]
    },
    {
      "cell_type": "code",
      "source": [
        "# 18. Check if two sets have no elements in common.\n",
        "set_18a = {1, 2, 3}\n",
        "set_18b = {4, 5, 6}\n",
        "no_common_elements = set_18a.isdisjoint(set_18b)\n",
        "print(no_common_elements)"
      ],
      "metadata": {
        "colab": {
          "base_uri": "https://localhost:8080/"
        },
        "id": "ogtJDIVjURuZ",
        "outputId": "46932211-d7f8-49fc-e49f-eeb0841d14a5"
      },
      "execution_count": 162,
      "outputs": [
        {
          "output_type": "stream",
          "name": "stdout",
          "text": [
            "True\n"
          ]
        }
      ]
    },
    {
      "cell_type": "code",
      "source": [
        "# 19. Find the symmetric difference between two sets.\n",
        "set_19a = {1, 2, 3, 4}\n",
        "set_19b = {3, 4, 5, 6}\n",
        "symmetric_difference = set_19a ^ set_19b\n",
        "print(symmetric_difference)"
      ],
      "metadata": {
        "colab": {
          "base_uri": "https://localhost:8080/"
        },
        "id": "M2NaZC52UTlE",
        "outputId": "8c0c26d5-0327-4e00-ee68-a24a2ff74ef3"
      },
      "execution_count": 163,
      "outputs": [
        {
          "output_type": "stream",
          "name": "stdout",
          "text": [
            "{1, 2, 5, 6}\n"
          ]
        }
      ]
    },
    {
      "cell_type": "code",
      "source": [
        "# 20. Update a set with elements from another set.\n",
        "set_20a = {1, 2, 3}\n",
        "set_20b = {3, 4, 5}\n",
        "set_20a.update(set_20b)\n",
        "print(set_20a)"
      ],
      "metadata": {
        "colab": {
          "base_uri": "https://localhost:8080/"
        },
        "id": "0u0lvnGaUV5_",
        "outputId": "446bc5ff-2711-4500-ba75-5621e3068b7b"
      },
      "execution_count": 164,
      "outputs": [
        {
          "output_type": "stream",
          "name": "stdout",
          "text": [
            "{1, 2, 3, 4, 5}\n"
          ]
        }
      ]
    },
    {
      "cell_type": "code",
      "source": [
        "# 21. Create a set of the first 5 prime numbers.\n",
        "prime_numbers = {2, 3, 5, 7, 11}\n",
        "print(prime_numbers)"
      ],
      "metadata": {
        "colab": {
          "base_uri": "https://localhost:8080/"
        },
        "id": "mnKg4VL8UY5v",
        "outputId": "9e2f2f00-c094-4d6f-8135-dbc9699c7df4"
      },
      "execution_count": 165,
      "outputs": [
        {
          "output_type": "stream",
          "name": "stdout",
          "text": [
            "{2, 3, 5, 7, 11}\n"
          ]
        }
      ]
    },
    {
      "cell_type": "code",
      "source": [
        "# 22. Check if two sets are identical.\n",
        "set_22a = {1, 2, 3}\n",
        "set_22b = {1, 2, 3}\n",
        "identical = set_22a == set_22b\n",
        "print(identical)"
      ],
      "metadata": {
        "colab": {
          "base_uri": "https://localhost:8080/"
        },
        "id": "oWdsMP4GUa35",
        "outputId": "57d73159-8a72-47f7-88c3-a6900a9b6da4"
      },
      "execution_count": 166,
      "outputs": [
        {
          "output_type": "stream",
          "name": "stdout",
          "text": [
            "True\n"
          ]
        }
      ]
    },
    {
      "cell_type": "code",
      "source": [
        "# 23. Create a frozen set.\n",
        "frozen_set = frozenset({1, 2, 3, 4, 5})\n",
        "print(frozen_set)"
      ],
      "metadata": {
        "colab": {
          "base_uri": "https://localhost:8080/"
        },
        "id": "WbpHu6AZUdhV",
        "outputId": "44084ab1-9569-401a-b4e5-a62d575752ed"
      },
      "execution_count": 167,
      "outputs": [
        {
          "output_type": "stream",
          "name": "stdout",
          "text": [
            "frozenset({1, 2, 3, 4, 5})\n"
          ]
        }
      ]
    },
    {
      "cell_type": "code",
      "source": [
        "# 24. Check if a set is disjoint with another set.\n",
        "set_24a = {1, 2, 3}\n",
        "set_24b = {4, 5, 6}\n",
        "disjoint = set_24a.isdisjoint(set_24b)\n",
        "print(disjoint)"
      ],
      "metadata": {
        "colab": {
          "base_uri": "https://localhost:8080/"
        },
        "id": "IQc7gqSTUg6L",
        "outputId": "9e439faa-7896-456a-e104-813c48e74e79"
      },
      "execution_count": 168,
      "outputs": [
        {
          "output_type": "stream",
          "name": "stdout",
          "text": [
            "True\n"
          ]
        }
      ]
    },
    {
      "cell_type": "code",
      "source": [
        "# 25. Create a set of squares of numbers from 1 to 5.\n",
        "squares_set = {num ** 2 for num in range(1, 6)}\n",
        "print(squares_set)"
      ],
      "metadata": {
        "colab": {
          "base_uri": "https://localhost:8080/"
        },
        "id": "CQq0MXY0Ui_N",
        "outputId": "fdd010ae-5d79-49e2-a5e6-4b88ec61fce0"
      },
      "execution_count": 169,
      "outputs": [
        {
          "output_type": "stream",
          "name": "stdout",
          "text": [
            "{1, 4, 9, 16, 25}\n"
          ]
        }
      ]
    },
    {
      "cell_type": "code",
      "source": [
        "# 26. Filter out all even numbers from a set.\n",
        "set_26 = {1, 2, 3, 4, 5}\n",
        "filtered_set_26 = {num for num in set_26 if num % 2 != 0}\n",
        "print(filtered_set_26)"
      ],
      "metadata": {
        "colab": {
          "base_uri": "https://localhost:8080/"
        },
        "id": "4tVDyS3JUkpF",
        "outputId": "73865e92-fc02-48ef-89e1-0e0924e9b042"
      },
      "execution_count": 170,
      "outputs": [
        {
          "output_type": "stream",
          "name": "stdout",
          "text": [
            "{1, 3, 5}\n"
          ]
        }
      ]
    },
    {
      "cell_type": "code",
      "source": [
        "# 27. Multiply all elements in a set by 2.\n",
        "set_27 = {1, 2, 3, 4, 5}\n",
        "multiplied_set_27 = {num * 2 for num in set_27}\n",
        "print(multiplied_set_27)"
      ],
      "metadata": {
        "colab": {
          "base_uri": "https://localhost:8080/"
        },
        "id": "SqQB27fLUoX4",
        "outputId": "69cdf485-9792-4255-a871-58fdf1cf110f"
      },
      "execution_count": 171,
      "outputs": [
        {
          "output_type": "stream",
          "name": "stdout",
          "text": [
            "{2, 4, 6, 8, 10}\n"
          ]
        }
      ]
    },
    {
      "cell_type": "code",
      "source": [
        "# 28. Create a set of random numbers.\n",
        "random_numbers_set = {random.randint(1, 100) for _ in range(5)}\n",
        "print(random_numbers_set)"
      ],
      "metadata": {
        "colab": {
          "base_uri": "https://localhost:8080/"
        },
        "id": "RXSsCIVsUqVJ",
        "outputId": "a1dbfbf4-e1dc-434b-a4d5-430ae66afc12"
      },
      "execution_count": 172,
      "outputs": [
        {
          "output_type": "stream",
          "name": "stdout",
          "text": [
            "{3, 7, 43, 78, 93}\n"
          ]
        }
      ]
    },
    {
      "cell_type": "code",
      "source": [
        "# 29. Check if a set is empty.\n",
        "empty_set = set()\n",
        "is_empty = not bool(empty_set)\n",
        "print(is_empty)"
      ],
      "metadata": {
        "colab": {
          "base_uri": "https://localhost:8080/"
        },
        "id": "xCtUAATfUsPo",
        "outputId": "d7d0da34-4104-4652-d4e9-9f4608c964da"
      },
      "execution_count": 173,
      "outputs": [
        {
          "output_type": "stream",
          "name": "stdout",
          "text": [
            "True\n"
          ]
        }
      ]
    },
    {
      "cell_type": "code",
      "source": [
        "# 30. Create a nested set (hint: use frozenset).\n",
        "nested_set = {frozenset({1, 2}), frozenset({3, 4})}\n",
        "print(nested_set)"
      ],
      "metadata": {
        "colab": {
          "base_uri": "https://localhost:8080/"
        },
        "id": "VJuzJvXFUv0F",
        "outputId": "6e5ccf06-87d9-4278-e0ac-8253e2ab89fd"
      },
      "execution_count": 174,
      "outputs": [
        {
          "output_type": "stream",
          "name": "stdout",
          "text": [
            "{frozenset({3, 4}), frozenset({1, 2})}\n"
          ]
        }
      ]
    },
    {
      "cell_type": "code",
      "source": [
        "# 31. Remove an element from a set using the discard method.\n",
        "set_31 = {1, 2, 3, 4, 5}\n",
        "set_31.discard(3)\n",
        "print(set_31)  # Output: {1, 2, 4, 5}\n",
        "\n"
      ],
      "metadata": {
        "colab": {
          "base_uri": "https://localhost:8080/"
        },
        "id": "LZPKyCt0Pgyb",
        "outputId": "33be51f3-2b4a-4244-affb-3e6be591b3c6"
      },
      "execution_count": 175,
      "outputs": [
        {
          "output_type": "stream",
          "name": "stdout",
          "text": [
            "{1, 2, 4, 5}\n"
          ]
        }
      ]
    },
    {
      "cell_type": "code",
      "source": [
        "# 32. Compare two sets.\n",
        "set_32a = {1, 2, 3}\n",
        "set_32b = {3, 4, 5}\n",
        "is_equal = set_32a == set_32b\n",
        "is_subset = set_32a <= set_32b\n",
        "is_superset = set_32a >= set_32b\n",
        "print(is_equal)\n",
        "print(is_subset)\n",
        "print(is_superset)"
      ],
      "metadata": {
        "colab": {
          "base_uri": "https://localhost:8080/"
        },
        "id": "zsSGgjgeU6JJ",
        "outputId": "84656f75-b8f3-4b1a-931e-7258413aa236"
      },
      "execution_count": 176,
      "outputs": [
        {
          "output_type": "stream",
          "name": "stdout",
          "text": [
            "False\n",
            "False\n",
            "False\n"
          ]
        }
      ]
    },
    {
      "cell_type": "code",
      "source": [
        "# 33. Create a set from a string.\n",
        "string = \"hello\"\n",
        "set_from_string = set(string)\n",
        "print(set_from_string)"
      ],
      "metadata": {
        "colab": {
          "base_uri": "https://localhost:8080/"
        },
        "id": "j_sS_z-xU7ny",
        "outputId": "83099b38-407e-4dec-afae-56b80072ab92"
      },
      "execution_count": 177,
      "outputs": [
        {
          "output_type": "stream",
          "name": "stdout",
          "text": [
            "{'o', 'h', 'l', 'e'}\n"
          ]
        }
      ]
    },
    {
      "cell_type": "code",
      "source": [
        "# 34. Convert a set of strings to a set of integers.\n",
        "set_34 = {\"1\", \"2\", \"3\"}\n",
        "set_of_integers = {int(item) for item in set_34}\n",
        "print(set_of_integers)"
      ],
      "metadata": {
        "colab": {
          "base_uri": "https://localhost:8080/"
        },
        "id": "4ISNSoLOU-Ur",
        "outputId": "4b2d3379-bf93-4290-bb38-e5684f928b0b"
      },
      "execution_count": 178,
      "outputs": [
        {
          "output_type": "stream",
          "name": "stdout",
          "text": [
            "{1, 2, 3}\n"
          ]
        }
      ]
    },
    {
      "cell_type": "code",
      "source": [
        "# 35. Convert a set of integers to a set of strings.\n",
        "set_35 = {1, 2, 3}\n",
        "set_of_strings = {str(item) for item in set_35}\n",
        "print(set_of_strings)"
      ],
      "metadata": {
        "colab": {
          "base_uri": "https://localhost:8080/"
        },
        "id": "t6AGMpKHVDoE",
        "outputId": "2b8a2999-8d89-42d7-9fbe-854b0067fd43"
      },
      "execution_count": 179,
      "outputs": [
        {
          "output_type": "stream",
          "name": "stdout",
          "text": [
            "{'2', '1', '3'}\n"
          ]
        }
      ]
    },
    {
      "cell_type": "code",
      "source": [
        "# 36. Create a set from a tuple.\n",
        "tuple_36 = (1, 2, 3, 4)\n",
        "set_from_tuple = set(tuple_36)\n",
        "print(set_from_tuple)"
      ],
      "metadata": {
        "colab": {
          "base_uri": "https://localhost:8080/"
        },
        "id": "caoJZnXaVEfp",
        "outputId": "de565abd-bba1-4986-e939-969d745057e2"
      },
      "execution_count": 180,
      "outputs": [
        {
          "output_type": "stream",
          "name": "stdout",
          "text": [
            "{1, 2, 3, 4}\n"
          ]
        }
      ]
    },
    {
      "cell_type": "code",
      "source": [
        "# 37. Convert a set to a tuple.\n",
        "set_37 = {1, 2, 3, 4}\n",
        "tuple_from_set = tuple(set_37)\n",
        "print(tuple_from_set)"
      ],
      "metadata": {
        "colab": {
          "base_uri": "https://localhost:8080/"
        },
        "id": "wHQKweK8VK2C",
        "outputId": "b0fec00b-0d7f-41b4-ca7c-1c647698a211"
      },
      "execution_count": 181,
      "outputs": [
        {
          "output_type": "stream",
          "name": "stdout",
          "text": [
            "(1, 2, 3, 4)\n"
          ]
        }
      ]
    },
    {
      "cell_type": "code",
      "source": [
        "# 38. Find the maximum value in a set.\n",
        "set_38 = {3, 6, 2, 8, 1}\n",
        "max_value = max(set_38)\n",
        "print(max_value)"
      ],
      "metadata": {
        "colab": {
          "base_uri": "https://localhost:8080/"
        },
        "id": "NNd81RiRVODo",
        "outputId": "acd21e03-e332-4ba2-cebb-30bbe1b347b8"
      },
      "execution_count": 182,
      "outputs": [
        {
          "output_type": "stream",
          "name": "stdout",
          "text": [
            "8\n"
          ]
        }
      ]
    },
    {
      "cell_type": "code",
      "source": [
        "# 39. Find the minimum value in a set.\n",
        "set_39 = {3, 6, 2, 8, 1}\n",
        "min_value = min(set_39)\n",
        "print(min_value)"
      ],
      "metadata": {
        "colab": {
          "base_uri": "https://localhost:8080/"
        },
        "id": "iD1dddFRVP-V",
        "outputId": "69db9535-c551-4c69-f7c4-76f00d96bd77"
      },
      "execution_count": 183,
      "outputs": [
        {
          "output_type": "stream",
          "name": "stdout",
          "text": [
            "1\n"
          ]
        }
      ]
    },
    {
      "cell_type": "code",
      "source": [
        "# 40. Create a set from user input.\n",
        "user_input = input(\"Enter comma-separated values: \")\n",
        "user_set = set(user_input.split(','))\n",
        "print(user_set)"
      ],
      "metadata": {
        "colab": {
          "base_uri": "https://localhost:8080/"
        },
        "id": "1FbR0eqsVSWg",
        "outputId": "f2817352-9a0c-4123-cee2-6003c69ab6d1"
      },
      "execution_count": 184,
      "outputs": [
        {
          "output_type": "stream",
          "name": "stdout",
          "text": [
            "Enter comma-separated values: 5,6,7,2,1\n",
            "{'5', '1', '7', '2', '6'}\n"
          ]
        }
      ]
    },
    {
      "cell_type": "code",
      "source": [
        "# 41. Check if the intersection of two sets is empty.\n",
        "set_41a = {1, 2, 3}\n",
        "set_41b = {4, 5, 6}\n",
        "intersection_empty = not bool(set_41a & set_41b)\n",
        "print(intersection_empty)"
      ],
      "metadata": {
        "colab": {
          "base_uri": "https://localhost:8080/"
        },
        "id": "HsoDuOtdVVM1",
        "outputId": "48b00bc5-81a3-4dfa-fbef-f9fa4d4bbc1c"
      },
      "execution_count": 185,
      "outputs": [
        {
          "output_type": "stream",
          "name": "stdout",
          "text": [
            "True\n"
          ]
        }
      ]
    },
    {
      "cell_type": "code",
      "source": [
        "# 42. Create a set of the first 5 Fibonacci numbers.\n",
        "fibonacci_set = {0, 1}\n",
        "while len(fibonacci_set) < 5:\n",
        "    next_fibonacci = list(fibonacci_set)[-1] + list(fibonacci_set)[-2]\n",
        "    fibonacci_set.add(next_fibonacci)\n",
        "print(fibonacci_set)\n"
      ],
      "metadata": {
        "id": "5_Vj7NQcVX_-"
      },
      "execution_count": null,
      "outputs": []
    },
    {
      "cell_type": "code",
      "source": [
        "# 43. Remove duplicates from a list using sets.\n",
        "list_43 = [1, 2, 2, 3, 4, 4, 5]\n",
        "list_without_duplicates = list(set(list_43))\n",
        "print(list_without_duplicates)"
      ],
      "metadata": {
        "colab": {
          "base_uri": "https://localhost:8080/"
        },
        "id": "yH65y8opVaCF",
        "outputId": "470adf89-9cfb-4c5e-819f-7aa8459f60a9"
      },
      "execution_count": 187,
      "outputs": [
        {
          "output_type": "stream",
          "name": "stdout",
          "text": [
            "[1, 2, 3, 4, 5]\n"
          ]
        }
      ]
    },
    {
      "cell_type": "code",
      "source": [
        "# 44. Check if two sets have the same elements, regardless of their count.\n",
        "set_44a = {1, 2, 3}\n",
        "set_44b = {3, 2, 1}\n",
        "same_elements = set_44a == set_44b\n",
        "print(same_elements)"
      ],
      "metadata": {
        "colab": {
          "base_uri": "https://localhost:8080/"
        },
        "id": "obVGD7g0VdTs",
        "outputId": "62e17f05-9274-459e-8085-f7abbb8a6d2f"
      },
      "execution_count": 188,
      "outputs": [
        {
          "output_type": "stream",
          "name": "stdout",
          "text": [
            "True\n"
          ]
        }
      ]
    },
    {
      "cell_type": "code",
      "source": [
        "# 45. Create a set of the first `n` powers of 2.\n",
        "n = 5\n",
        "powers_of_2_set = {2 ** i for i in range(n)}\n",
        "print(powers_of_2_set)"
      ],
      "metadata": {
        "colab": {
          "base_uri": "https://localhost:8080/"
        },
        "id": "XIW3buzKVgHN",
        "outputId": "1ff90fec-0e90-4f67-9981-10bf7360fee8"
      },
      "execution_count": 189,
      "outputs": [
        {
          "output_type": "stream",
          "name": "stdout",
          "text": [
            "{1, 2, 4, 8, 16}\n"
          ]
        }
      ]
    },
    {
      "cell_type": "code",
      "source": [
        "# 46. Find the common elements between a set and a list.\n",
        "set_46 = {1, 2, 3, 4, 5}\n",
        "list_46 = [3, 4, 5, 6, 7]\n",
        "common_elements = set_46 & set(list_46)\n",
        "print(common_elements)"
      ],
      "metadata": {
        "colab": {
          "base_uri": "https://localhost:8080/"
        },
        "id": "pZAXJ91YVi6G",
        "outputId": "7c558edf-9f1c-408d-ea01-8de5edb7a8a1"
      },
      "execution_count": 190,
      "outputs": [
        {
          "output_type": "stream",
          "name": "stdout",
          "text": [
            "{3, 4, 5}\n"
          ]
        }
      ]
    },
    {
      "cell_type": "code",
      "source": [
        "# 47. Create a set of the first `n` triangular numbers.\n",
        "n = 5\n",
        "triangular_numbers_set = {(i * (i + 1)) // 2 for i in range(1, n + 1)}\n",
        "print(triangular_numbers_set)"
      ],
      "metadata": {
        "colab": {
          "base_uri": "https://localhost:8080/"
        },
        "id": "5fGswTtIVlL_",
        "outputId": "5d8a54ed-38d6-44fc-ab45-cc31b5efc86b"
      },
      "execution_count": 191,
      "outputs": [
        {
          "output_type": "stream",
          "name": "stdout",
          "text": [
            "{1, 3, 6, 10, 15}\n"
          ]
        }
      ]
    },
    {
      "cell_type": "code",
      "source": [
        "# 48. Check if a set contains another set as a subset.\n",
        "set_48a = {1, 2, 3, 4}\n",
        "set_48b = {2, 3}\n",
        "is_subset = set_48b.issubset(set_48a)\n",
        "print(is_subset)"
      ],
      "metadata": {
        "colab": {
          "base_uri": "https://localhost:8080/"
        },
        "id": "D0ipxSi1VoAP",
        "outputId": "2b89a59e-d862-495d-af9b-eb2c0da12ce2"
      },
      "execution_count": 192,
      "outputs": [
        {
          "output_type": "stream",
          "name": "stdout",
          "text": [
            "True\n"
          ]
        }
      ]
    },
    {
      "cell_type": "code",
      "source": [
        "# 49. Create a set of alternating 1s and 0s of length `n`.\n",
        "n = 10\n",
        "alternating_set = {i % 2 for i in range(n)}\n",
        "print(alternating_set)"
      ],
      "metadata": {
        "colab": {
          "base_uri": "https://localhost:8080/"
        },
        "id": "_lCRQbGWVq54",
        "outputId": "75512292-402f-44ce-f150-c48c5c7cce3f"
      },
      "execution_count": 193,
      "outputs": [
        {
          "output_type": "stream",
          "name": "stdout",
          "text": [
            "{0, 1}\n"
          ]
        }
      ]
    },
    {
      "cell_type": "code",
      "source": [
        "# 50. Merge multiple sets into one.\n",
        "set_50a = {1, 2, 3}\n",
        "set_50b = {3, 4, 5}\n",
        "set_50c = {5, 6, 7}\n",
        "merged_set = set_50a | set_50b | set_50c\n",
        "print(merged_set)\n"
      ],
      "metadata": {
        "colab": {
          "base_uri": "https://localhost:8080/"
        },
        "id": "2cE67q3-RUA8",
        "outputId": "864c7d37-3323-4df0-a537-5cbc6b6903f8"
      },
      "execution_count": 194,
      "outputs": [
        {
          "output_type": "stream",
          "name": "stdout",
          "text": [
            "{1, 2, 3, 4, 5, 6, 7}\n"
          ]
        }
      ]
    },
    {
      "cell_type": "code",
      "source": [],
      "metadata": {
        "id": "_3KKJ3zTSJN-"
      },
      "execution_count": null,
      "outputs": []
    }
  ]
}