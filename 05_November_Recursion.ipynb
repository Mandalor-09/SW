{
 "cells": [
  {
   "cell_type": "markdown",
   "metadata": {},
   "source": [
    "### Tower Of Hanoi Problem\n",
    "\n",
    "So basically in Tower of Hanoi we will have have 3 towers [A,B,C] and 'n' number of disk,\n",
    "Suppose A has all the disk(in increasing order from up to down) here our main motive is to \n",
    "transfer this disk to C but by following few condition.\n",
    "\n",
    "1) While Treansfer no 2 disk can move at Once.\n",
    "2) A smaller disk cannot be below a higher disk,\n",
    "\n",
    "### Explanation:\n",
    "\n",
    "**Base condition**: If \\( n = 1 \\) ---> move the block from A to C\n",
    "\n",
    "### Step-by-Step Breakdown:\n",
    "\n",
    "1. **Initial Call**: `tower_of_hanoi(3, 'A', 'B', 'C')`\n",
    "    - \\( n != 1 \\): So, we proceed with the recursive calls.\n",
    "    - First recursive call: \\( n = n-1 = 3-1 = 2 \\)\n",
    "      - `tower_of_hanoi(2, 'A', 'C', 'B')`  \"Recursive Call 1\"\n",
    "\n",
    "2. **Recursive Call 1**: `tower_of_hanoi(2, 'A', 'C', 'B')`\n",
    "    - \\( n != 1 \\): So, we proceed with the recursive calls.\n",
    "    - First recursive call: \\( n = n-1 = 2-1 = 1 \\)\n",
    "      - `tower_of_hanoi(1, 'A', 'B', 'C')`  \"Recursive Call 2\"\n",
    "      \n",
    "3. **Recursive Call 2**: `tower_of_hanoi(1, 'A', 'B', 'C')`\n",
    "    - \\( n = 1 \\): This is the base condition.\n",
    "    - **Action**: Move 1 disk from A to C\n",
    "    - **Output**: `Move 1 disk from A to C`\n",
    "\n",
    "4. **Back to Recursive Call 1**:\n",
    "    - After completing the first recursive call (`Recursive Call 2`), we print:\n",
    "      - **Output**: `Move 2 disk from A to B`\n",
    "    - Second recursive call: \\( n = n-1 = 1 \\)\n",
    "      - `tower_of_hanoi(1, 'C', 'A', 'B')`  \"Recursive Call 3\"\n",
    "\n",
    "5. **Recursive Call 3**: `tower_of_hanoi(1, 'C', 'A', 'B')`\n",
    "    - \\( n = 1 \\): This is the base condition.\n",
    "    - **Action**: Move 1 disk from C to B\n",
    "    - **Output**: `Move 1 disk from C to B`\n",
    "\n",
    "6. **Back to Initial Call**:\n",
    "    - After completing the first major recursive call (`Recursive Call 1`), we print:\n",
    "      - **Output**: `Move 3 disk from A to C`\n",
    "    - Second recursive call: \\( n = n-1 = 2 \\)\n",
    "      - `tower_of_hanoi(2, 'B', 'A', 'C')`  \"Recursive Call 4\"\n",
    "\n",
    "7. **Recursive Call 4**: `tower_of_hanoi(2, 'B', 'A', 'C')`\n",
    "    - \\( n != 1 \\): So, we proceed with the recursive calls.\n",
    "    - First recursive call: \\( n = n-1 = 1 \\)\n",
    "      - `tower_of_hanoi(1, 'B', 'C', 'A')`  \"Recursive Call 5\"\n",
    "\n",
    "8. **Recursive Call 5**: `tower_of_hanoi(1, 'B', 'C', 'A')`\n",
    "    - \\( n = 1 \\): This is the base condition.\n",
    "    - **Action**: Move 1 disk from B to A\n",
    "    - **Output**: `Move 1 disk from B to A`\n",
    "\n",
    "9. **Back to Recursive Call 4**:\n",
    "    - After completing the first recursive call (`Recursive Call 5`), we print:\n",
    "      - **Output**: `Move 2 disk from B to C`\n",
    "    - Second recursive call: \\( n = n-1 = 1 \\)\n",
    "      - `tower_of_hanoi(1, 'A', 'B', 'C')`  \"Recursive Call 6\"\n",
    "\n",
    "10. **Recursive Call 6**: `tower_of_hanoi(1, 'A', 'B', 'C')`\n",
    "    - \\( n = 1 \\): This is the base condition.\n",
    "    - **Action**: Move 1 disk from A to C\n",
    "    - **Output**: `Move 1 disk from A to C`\n",
    "\n",
    "### Final Output\n",
    "Combining all the moves, the final output sequence will be:\n",
    "\n",
    "1. Move 1 disk from A to C\n",
    "2. Move 2 disk from A to B\n",
    "3. Move 1 disk from C to B\n",
    "4. Move 3 disk from A to C\n",
    "5. Move 1 disk from B to A\n",
    "6. Move 2 disk from B to C\n",
    "7. Move 1 disk from A to C\n",
    "\n",
    "### Recurance Relation :\n",
    "            _                                     _\n",
    "    T(n) = |      1   ,        n=1        ====>  |      1   ,        n=1   \n",
    "           |_  T(n-1) + T(n-1) + c  ,n>1         |_  2 * T(n-1) + c  ,n>1  \n",
    "\n",
    "### Time Complexity -> O(2^n) solved using substitution method\n",
    "### Space Complexity -> O(n)  dept of stack"
   ]
  },
  {
   "cell_type": "code",
   "execution_count": 2,
   "metadata": {},
   "outputs": [
    {
     "name": "stdout",
     "output_type": "stream",
     "text": [
      "Move 1 disk from A to C\n",
      "Move 2 disk from A to B\n",
      "Move 1 disk from C to B\n",
      "Move 3 disk from A to C\n",
      "Move 1 disk from B to A\n",
      "Move 2 disk from B to C\n",
      "Move 1 disk from A to C\n"
     ]
    }
   ],
   "source": [
    "def tower_of_hanoi(n,src='A',aux='B',dest='C'):\n",
    "    if n == 1:\n",
    "        print(f'Move {n} disk from {src} to {dest}')\n",
    "        return\n",
    "    else:\n",
    "        tower_of_hanoi(n-1,src=src,aux=dest,dest=aux)\n",
    "        print(f'Move {n} disk from {src} to {dest}')\n",
    "        tower_of_hanoi(n-1,src=aux,aux=src,dest=dest)\n",
    "\n",
    "tower_of_hanoi(3)"
   ]
  },
  {
   "cell_type": "code",
   "execution_count": 3,
   "metadata": {},
   "outputs": [
    {
     "name": "stdout",
     "output_type": "stream",
     "text": [
      "The maximum value in the array is: 22\n"
     ]
    }
   ],
   "source": [
    "def find_max(arr):\n",
    "    # Base case: If the array has only one element, return that element\n",
    "    if len(arr) == 1:\n",
    "        return arr[0]\n",
    "    else:\n",
    "        # Recursive case: Compare the first element with the maximum of the rest of the array\n",
    "        max_of_rest = find_max(arr[1:])\n",
    "        return max(arr[0], max_of_rest)\n",
    "\n",
    "# Example usage\n",
    "arr = [13, 1, -3, 22, 5]\n",
    "max_value = find_max(arr)\n",
    "print(f'The maximum value in the array is: {max_value}')\n"
   ]
  },
  {
   "cell_type": "code",
   "execution_count": null,
   "metadata": {},
   "outputs": [],
   "source": []
  }
 ],
 "metadata": {
  "kernelspec": {
   "display_name": "Python 3",
   "language": "python",
   "name": "python3"
  },
  "language_info": {
   "codemirror_mode": {
    "name": "ipython",
    "version": 3
   },
   "file_extension": ".py",
   "mimetype": "text/x-python",
   "name": "python",
   "nbconvert_exporter": "python",
   "pygments_lexer": "ipython3",
   "version": "3.11.4"
  }
 },
 "nbformat": 4,
 "nbformat_minor": 2
}
